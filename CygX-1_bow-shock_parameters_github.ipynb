{
 "cells": [
  {
   "cell_type": "markdown",
   "id": "02d0ba08",
   "metadata": {},
   "source": [
    "This code models the jet-ISM interaction site near Cyg X-1, combines it with the measurements made of the site in radio wavelengths and establishes estimates of the age of the jet and the energy trasnported by the jet powering the interaction site. This requires the following steps:\n",
    "1) User defined inputs that define various observed parameters pertaining to the bow shock.\n",
    "2) Estimating the electron density of the shocked gas using both the L and S-band bow shock surface brightness (assuming a temperature range). Additionally, we use H-alpha surface brightness too.\n",
    "3) Use the derived temperature and electron density ranges to estimate the velocity of the bow shock. \n",
    "4) Use the velocity and the characteristic length of the jet to find the age of the jets.\n",
    "5) The age of the jet is then used to estimate the average energy transport rate."
   ]
  },
  {
   "cell_type": "code",
   "execution_count": 49,
   "id": "fe8ac95e",
   "metadata": {},
   "outputs": [
    {
     "name": "stdout",
     "output_type": "stream",
     "text": [
      "Running on:\n",
      "Python version 3.6\n",
      "\tAstropy\t\t4.0.2\n",
      "\tMatplotlib\t3.3.4\n",
      "\tNumpy\t\t1.19.5\n",
      "\tScipy\t\t1.5.3\n",
      "\tSeaborn\t\t0.11.2\n",
      "\tPandas\t\t1.1.5\n",
      "\tJoblib\t\t0.13.2\n"
     ]
    }
   ],
   "source": [
    "import astropy\n",
    "from astropy import units as u\n",
    "from astropy.units import cds\n",
    "import matplotlib.pyplot as plt\n",
    "import matplotlib as mpl\n",
    "import matplotlib.font_manager as font_manager\n",
    "import matplotlib.gridspec as gridspec\n",
    "from matplotlib import rc\n",
    "from matplotlib import colors\n",
    "import numpy as np\n",
    "import numpy.ma as ma\n",
    "import math\n",
    "from scipy import interpolate\n",
    "from scipy import optimize\n",
    "from scipy.integrate import quad\n",
    "from scipy.stats import rv_histogram\n",
    "\n",
    "from scipy.stats import gaussian_kde,rv_continuous\n",
    "from scipy.interpolate import interp1d\n",
    "\n",
    "import scipy.special\n",
    "import seaborn as sns\n",
    "import pandas as pd\n",
    "\n",
    "import joblib\n",
    "from joblib import Parallel, delayed\n",
    "import multiprocessing\n",
    "\n",
    "import os\n",
    "\n",
    "\n",
    "# Package versions:\n",
    "print('Running on:')\n",
    "print('Python version 3.6')\n",
    "print(f'\\tAstropy\\t\\t{astropy.__version__}')\n",
    "print(f'\\tMatplotlib\\t{plt.matplotlib.__version__}')\n",
    "print(f'\\tNumpy\\t\\t{np.__version__}')\n",
    "print(f'\\tScipy\\t\\t{scipy.__version__}')\n",
    "print(f'\\tSeaborn\\t\\t{sns.__version__}')\n",
    "print(f'\\tPandas\\t\\t{pd.__version__}')\n",
    "print(f'\\tJoblib\\t\\t{joblib.__version__}')\n"
   ]
  },
  {
   "cell_type": "code",
   "execution_count": 50,
   "id": "bfa075d6",
   "metadata": {},
   "outputs": [],
   "source": [
    "# Set default figure size for all plots\n",
    "plt.rcParams['figure.figsize'] = [12, 8]  # Width, Height in inches\n",
    "\n",
    "#python3.6\n",
    "rc('text', usetex=True)\n",
    "font = {'family' : 'serif','size'   : 18}\n",
    "rc('font', **font)"
   ]
  },
  {
   "cell_type": "code",
   "execution_count": 51,
   "id": "6165ec95",
   "metadata": {},
   "outputs": [],
   "source": [
    "#New measured quantities in this work in L-band\n",
    "F_total_L = 0.04693 #Integrated Bow shock flux in Jy\n",
    "#F_total_L = 1.5e-4 #Integrated Bow shock flux in Jy if the bowshock was not deteted (sigma level)\n",
    "F_L = 110e-6        #Mean Bow shock flux density in Jy/beam \n",
    "F_err_L = 1.5e-4    #rms around bowshock region\n",
    "DRmin_L = 1.45      #Ring thickness, arcmin \n",
    "DRmin_err_L = 0.17\n",
    "theam_L = 7.3       #Bubble diameter in arcmin (noted between the inner edges of the lobe)\n",
    "disamin_L = 10.8    #angular seperation between Cyg X-1 and the leading edge of the bowshock in arcmin\n",
    "disamin_err_L = 0.2 #beam size is taken as the error\n",
    "proj_shock_L = 97771.6 #projected area of the bowshock in arcsec2 (used ds9 for this)\n",
    "\n",
    "#New measured quantities in this work in S-band\n",
    "F_total_S = 0.05927 #Integrated Bow shock flux in Jy\n",
    "F_S = 38e-6         #Mean Bow shock flux density in Jy/beam \n",
    "F_err_S = 4.8e-5    #rms from bowshock region\n",
    "DRmin_S = 1.39      #Ring thickness, arcmin \n",
    "DRmin_err_S = 0.18\n",
    "theam_S = 7         #Lobe diameter in arcmin (noted between the inner edges of the lobe)\n",
    "disamin_S = 10.5    #angular seperation between Cyg X-1 and the leading edge of the bowshock in arcmin\n",
    "disamin_err_S = 0.12 #beam size is taken as the error\n",
    "proj_shock_S = 95688.6 #projected area of the bowshock in arcsec2 (used ds9 for this)\n",
    "\n",
    "#Source specific parameters obtained from Miller-Jones et al. 2021 \n",
    "d = 2.2            #distance to Cyg X-1 in kpc\n",
    "d_err = 0.18       #error in distance measured \n",
    "incl = 27.51       #inclination angle\n",
    "incl_err = 0.18    #error inclination angle, Miller-Jones et al. 2021\n",
    "o_a = 30           #opening angle\n",
    "o_a_err = 0        #opening angle error"
   ]
  },
  {
   "cell_type": "code",
   "execution_count": 52,
   "id": "48f4d656",
   "metadata": {},
   "outputs": [],
   "source": [
    "#Constants\n",
    "n_iter = 5000\n",
    "n_cores = 16         # Number of parallel threads\n",
    "pc = 3.086E+18       # 1 pc, cm \n",
    "mh = 1.6735575E-24   # Hydrogen mass, g \n",
    "me = 9.1093837E-28   # Electron mass, g \n",
    "eV = 1.602176634E-12 # ElectronVolt, erg\n",
    "Jy = 1.0E-23         # 1 Jansky (erg/s/cm2/Hz), cgs\n",
    "kb = 1.380649E-16;   # K boltzman, cgs\n",
    "h =  6.6261E-27;     # Plank constant, cgs \n",
    "c = 3.0e10           # Speed of light, cgs \n",
    "Na = 6.022E+23       # Avogadro's number\n",
    "Z=1                  # Hydrogen atomic number\n",
    "e = 4.8e-10          #electric charge cm3/2 g1/2 s-1\n",
    "x=1                  #ionisation fraction\n",
    "C_radio = 6.8*1e-38\n",
    "Gammac = 5/3                            # Adiabatic index of the material in the cavity, -- ASSUMED \n",
    "Gammax = 5/3                            # Adiabatic index of the material in the external medium, -- ASSUMED \n",
    "Gammaj = 5/3                            # Adiabatic index of the material in the jet, -- ASSUMED \n",
    "beta = 0                                # density profile index (beta = 0 for a uniform density medium), -- ASSUMED \n",
    "\n",
    "# Observation-specific quantities L-band\n",
    "nu_L = 1.2839E+9;         # Observing frequency (L-band, MeerKAT, slightly lower than for Cyg X-1, Westerbork)\n",
    "bmaj_L = 14.26            # Beam major axis, arcsec\n",
    "bmin_L = 14.26            # Beam minor axis, arcsec\n",
    "\n",
    "# Observation-specific quantities S-band\n",
    "nu_S = 2.624E+9;         # Observing frequency (L-band, MeerKAT, slightly lower than for Cyg X-1, Westerbork)\n",
    "bmaj_S = 7.009            # Beam major axis, arcsec\n",
    "bmin_S = 7.009            # Beam minor axis, arcsec"
   ]
  },
  {
   "cell_type": "markdown",
   "id": "18dd06cc",
   "metadata": {},
   "source": [
    "## Conversion of the newly measured source specific quantities L-band"
   ]
  },
  {
   "cell_type": "code",
   "execution_count": 53,
   "id": "2c3e9766",
   "metadata": {},
   "outputs": [
    {
     "name": "stdout",
     "output_type": "stream",
     "text": [
      "Bow shock thickness in cm - 2.835e+18\n",
      "Diameter of the bowshock in cm - 1.427e+19\n",
      "Seperation between Cyg X-1 and the bowshock in cm (de-projected) - 4.572e+19\n",
      "Bow shock thickness in pc - 0.919\n",
      "Diameter of the bowshock in pc - 4.625\n",
      "Seperation between Cyg X-1 and the bowshock in pc (projected) - 6.843\n",
      "Bow shock Volume in pc3 - 1.002e+01\n",
      "Bow shock Area in pc2 - 1.090e+01\n"
     ]
    }
   ],
   "source": [
    "#various aspects of the ring thickness\n",
    "DR_L = DRmin_L*60            #Ring thickness, arcsec\n",
    "DRpc_L = d*1e3*4.8*1e-6*DR_L #Ring thickness in pc (have to convert d to pc from kpc too)\n",
    "DRcm_L = DRpc_L*pc           #Ring thickness in cm \n",
    "\n",
    "DR_err_L = DRmin_err_L*60\n",
    "DRpc_err_L = d*1e3*4.8*1e-6*DR_err_L #Ring thickness in pc (have to convert d to pc from kpc too)\n",
    "DRcm_err_L = DRpc_err_L*pc           #Ring thickness in cm \n",
    "\n",
    "#various aspects of the area of of the bowshock\n",
    "proj_shock_pc_L = proj_shock_L*(d*1e3*4.8*1e-6)**2 #convert area from arcsec to pc\n",
    "proj_volume_pc_L = DRpc_L*proj_shock_pc_L          #convert the pc area to pc volume\n",
    "proj_vol_cm_L = proj_volume_pc_L*((pc)**3)         #convert the pc volume to cm3 volume\n",
    "\n",
    "#Various aspects of the lobe diameter\n",
    "lobesize_as_L = theam_L*60                     #lobe diameter in arcseconds\n",
    "lobesizepc_L = lobesize_as_L*d*1e3*4.8*1e-6    #lobe diameter in pc\n",
    "lobesizecm_L = lobesizepc_L*pc                 #lobe diameter in cm\n",
    "\n",
    "#Various aspects of the angular seperation between the target and the leading edge of the bowshock\n",
    "disasec_L = disamin_L*60                          #lobe target seperation in arcsec (projected)\n",
    "dispc_L = disasec_L*d*1e3*4.8*1e-6                #lobe target separation in pc (projected)\n",
    "discmP_L = dispc_L*pc                             #lobe target sepeartion in cm (projected)\n",
    "discm_deP_L = discmP_L/math.sin(incl*math.pi/180) #lobe target de-projected seperation to account for the inclination angle\n",
    "\n",
    "#Printing the estimated values\n",
    "print('Bow shock thickness in cm -','%.3e'%DRcm_L)\n",
    "print('Diameter of the bowshock in cm -', '%.3e'%lobesizecm_L)\n",
    "print('Seperation between Cyg X-1 and the bowshock in cm (de-projected) -', '%.3e'%discm_deP_L) #Lj\n",
    "print('Bow shock thickness in pc -','%.3f'%DRpc_L)\n",
    "print('Diameter of the bowshock in pc -', '%.3f'%lobesizepc_L)\n",
    "print('Seperation between Cyg X-1 and the bowshock in pc (projected) -', '%.3f'%dispc_L) #Lj\n",
    "print('Bow shock Volume in pc3 -','%.3e'%proj_volume_pc_L)\n",
    "print('Bow shock Area in pc2 -','%.3e'%proj_shock_pc_L)"
   ]
  },
  {
   "cell_type": "markdown",
   "id": "c2d925bb",
   "metadata": {},
   "source": [
    "## Conversion of the newly measured source specific quantities S-band"
   ]
  },
  {
   "cell_type": "code",
   "execution_count": 54,
   "id": "b185cd8d",
   "metadata": {},
   "outputs": [
    {
     "name": "stdout",
     "output_type": "stream",
     "text": [
      "Bow shock thickness in cm - 2.718e+18\n",
      "Diameter of the bowshock in cm - 1.369e+19\n",
      "Seperation between Cyg X-1 and the bowshock in cm (de-projected) - 4.445e+19\n",
      "Bow shock thickness in pc - 0.881\n",
      "Diameter of the bowshock in pc - 4.435\n",
      "Seperation between Cyg X-1 and the bowshock in pc (projected) - 6.653\n",
      "Bow shock Volume in pc3 - 9.398e+00\n",
      "Bow shock Area in pc2 - 1.067e+01\n"
     ]
    }
   ],
   "source": [
    "DR_S = DRmin_S*60            #Ring thickness, arcsec\n",
    "DRpc_S = d*1e3*4.8*1e-6*DR_S #Ring thickness in pc (have to convert d to pc from kpc too)\n",
    "DRcm_S = DRpc_S*pc           #Ring thickness in cm \n",
    "\n",
    "DR_err_S = DRmin_err_S*60\n",
    "DRpc_err_S = d*1e3*4.8*1e-6*DR_err_S #Ring thickness in pc (have to convert d to pc from kpc too)\n",
    "DRcm_err_S = DRpc_err_S*pc           #Ring thickness in cm \n",
    "\n",
    "#various aspects of the area of of the bowshock\n",
    "proj_shock_pc_S = proj_shock_S*(d*1e3*4.8*1e-6)**2 #convert area from arcsec to pc\n",
    "proj_volume_pc_S = DRpc_S*proj_shock_pc_S          #convert the pc area to pc volume\n",
    "proj_vol_cm_S = proj_volume_pc_S*((pc)**3)         #convert the pc volume to cm3 volume\n",
    "\n",
    "#Various aspects of the lobe diameter\n",
    "lobesize_as_S = theam_S*60                     #lobe diameter in arcseconds\n",
    "lobesizepc_S = lobesize_as_S*d*1e3*4.8*1e-6    #lobe diameter in pc\n",
    "lobesizecm_S = lobesizepc_S*pc                 #lobe diameter in cm\n",
    "\n",
    "#Various aspects of the angular seperation between the target and the leading edge of the bowshock\n",
    "disasec_S = disamin_S*60                          #lobe target seperation in arcsec (projected)\n",
    "dispc_S = disasec_S*d*1e3*4.8*1e-6                #lobe target separation in pc (projected)\n",
    "discmP_S = dispc_S*pc                             #lobe target sepeartion in cm (projected)\n",
    "discm_deP_S = discmP_S/math.sin(incl*math.pi/180) #lobe target de-projected seperation to account for the inclination angle\n",
    "\n",
    "#Printing the estimated values\n",
    "print('Bow shock thickness in cm -','%.3e'%DRcm_S)\n",
    "print('Diameter of the bowshock in cm -', '%.3e'%lobesizecm_S)\n",
    "print('Seperation between Cyg X-1 and the bowshock in cm (de-projected) -', '%.3e'%discm_deP_S) #Lj\n",
    "print('Bow shock thickness in pc -','%.3f'%DRpc_S)\n",
    "print('Diameter of the bowshock in pc -', '%.3f'%lobesizepc_S)\n",
    "print('Seperation between Cyg X-1 and the bowshock in pc (projected) -', '%.3f'%dispc_S) #Lj\n",
    "print('Bow shock Volume in pc3 -','%.3e'%proj_volume_pc_S)\n",
    "print('Bow shock Area in pc2 -','%.3e'%proj_shock_pc_S)"
   ]
  },
  {
   "cell_type": "markdown",
   "id": "63303689",
   "metadata": {},
   "source": [
    "### Finding the electron density and temperature"
   ]
  },
  {
   "cell_type": "markdown",
   "id": "8d93e867",
   "metadata": {},
   "source": [
    "The monochromatic emissivity $\\epsilon_\\nu$ of ionised hydrogen due to thermal bremsstrahlung is given by (Longair 1994). \n",
    "\n",
    " $$\\epsilon_\\nu = \\frac{L_\\nu}{V} = 6.8\\times 10^{-38} g(\\nu, T) \\frac{n_e^2}{\\sqrt{T}} \\exp{(\\frac{h\\nu}{k_b T})} ~~ erg~s^{-1}~cm^{-3}~Hz^{-1}$$\n",
    "\n",
    "where $V$ is the volume of the emitting region. The area of the bow shock region in determined in arcsec^2 and multiplied by the thickness of the ring to estimate V. Assumption: The bow shock structure is as deep as it is wide. \n",
    "\n",
    "$$\n",
    "L_\\nu = F_\\nu \\times 4\\pi \\times d^2\n",
    "$$\n",
    ", which is the monochromatic luminosity. In the case of MeerKAT, we use monochromatic flux density ($F_\\nu$) to present the flux density of a flat spectrum source at the central frequency of the observing band. Another thing to note is that this is the integrated flux of the bowshock, as we are using the total volume of the emitting region to find the emissivity.\n",
    "\n",
    "From the Bremsstrahlung emissivity we can derive the electron density, and from there the total number of particles based on the expected ionisation fraction $x \\sim 1$ of a hydrogen gas emitting at a minimum temperature of T $\\sim 10{^4}$ K. At these temperatures almost all hydrogen will be ionised, so the ionisation fraction is 1.\n",
    "\n",
    "$$n_e = \\sqrt\\frac{\\epsilon_\\nu}{g(\\nu, T) \\sqrt{T} C_{radio}}$$\n",
    "\n",
    "where,\n",
    "\n",
    "$$ \n",
    "C_{radio} = 6.8\\times 10^{-38} erg~s^{-1}~cm^{-3}~Hz^{-1} \n",
    "$$,\n",
    "\n",
    "$$\n",
    "g(\\nu, T) \\approx \\frac{\\sqrt{3}}{2 \\pi}\\left[\\ln \\left(\\frac{128 \\epsilon_0^2 k^3 T^3}{m_e e^4 \\nu^2 Z^2}\\right)-\\gamma^2\\right]\n",
    "$$"
   ]
  },
  {
   "cell_type": "markdown",
   "id": "9b92914e",
   "metadata": {},
   "source": [
    "### To calculate the electron density using MC"
   ]
  },
  {
   "cell_type": "code",
   "execution_count": 55,
   "id": "59add093",
   "metadata": {},
   "outputs": [],
   "source": [
    "def gaunt(nu, T, z):\n",
    "    # The Gaunt factor  \n",
    "    F1 = 128.*(1**2)*(kb**3)*(T**3)\n",
    "    F2 = me * (e**4)*(nu**2)*(z**2)\n",
    "    G = (3**0.5 / (2.*np.pi)) * (np.log(F1/F2) - 0.5772156649**2)\n",
    "    return G"
   ]
  },
  {
   "cell_type": "code",
   "execution_count": 56,
   "id": "9404d1ba",
   "metadata": {},
   "outputs": [],
   "source": [
    "class custom_dist_analytical(rv_continuous):\n",
    "    def _pdf(self, xx):\n",
    "        return testf(xx)\n",
    "\n",
    "np.random.seed(124)"
   ]
  },
  {
   "cell_type": "code",
   "execution_count": 57,
   "id": "d1c76ea0",
   "metadata": {},
   "outputs": [],
   "source": [
    "def ne(d,F,DR,T_axis,nu,Z,proj_shock):\n",
    "    L14 = F*Jy*4*math.pi*(d*1e3*pc)**2 # Monochormatic ring luminosity in erg/sec/Hz\n",
    "    Vol = (DR*proj_shock*(d*1e3*4.8*1e-6*pc)**3)\n",
    "    kappa_nu = L14 / Vol\n",
    "    ne_squared = kappa_nu/(C_radio*(T_axis**-0.5) * gaunt(nu, T_axis, Z))\n",
    "    n_e = (ne_squared**0.5)           # units: cm^-3\n",
    "    return n_e\n"
   ]
  },
  {
   "cell_type": "code",
   "execution_count": 58,
   "id": "4131bbc8",
   "metadata": {},
   "outputs": [],
   "source": [
    "# Creating distributions for source parameters that remain unchanged for both frequencies parameters:\n",
    "dist = np.random.normal(d,d_err, n_iter)\n",
    "T_axis_log = np.logspace(np.log10(10**4), np.log10(3*(10**6)), num=n_iter, base=10, endpoint=True) #using upper limit derived from X-ray non-detection"
   ]
  },
  {
   "cell_type": "code",
   "execution_count": 59,
   "id": "85c78742",
   "metadata": {},
   "outputs": [],
   "source": [
    "#Creating distributions for source parameters that change for each frequency\n",
    "Flux_L = np.random.normal(F_total_L,F_err_L,n_iter)\n",
    "Ring_thic_L = np.random.normal(DR_L,DR_err_L,n_iter) #ring thickness in arcsec\n",
    "Flux_S = np.random.normal(F_total_S,F_err_S,n_iter)\n",
    "Ring_thic_S = np.random.normal(DR_S,DR_err_S,n_iter) #ring thickness in arcsec"
   ]
  },
  {
   "cell_type": "code",
   "execution_count": 60,
   "id": "57943024",
   "metadata": {},
   "outputs": [
    {
     "name": "stderr",
     "output_type": "stream",
     "text": [
      "[Parallel(n_jobs=16)]: Using backend LokyBackend with 16 concurrent workers.\n",
      "[Parallel(n_jobs=16)]: Done  32 tasks      | elapsed:    0.1s\n"
     ]
    },
    {
     "name": "stderr",
     "output_type": "stream",
     "text": [
      "[Parallel(n_jobs=16)]: Done 5000 out of 5000 | elapsed:    0.4s finished\n",
      "[Parallel(n_jobs=16)]: Using backend LokyBackend with 16 concurrent workers.\n",
      "[Parallel(n_jobs=16)]: Done 176 tasks      | elapsed:    0.1s\n",
      "[Parallel(n_jobs=16)]: Done 5000 out of 5000 | elapsed:    0.4s finished\n"
     ]
    }
   ],
   "source": [
    "elec_density_L = Parallel(n_jobs=n_cores,verbose=5)(delayed(ne)(dist[i],Flux_L[i],Ring_thic_L[i],T_axis_log[i],nu_L,Z,proj_shock_L) for i in range(n_iter))\n",
    "elec_density_S = Parallel(n_jobs=n_cores,verbose=5)(delayed(ne)(dist[i],Flux_S[i],Ring_thic_S[i],T_axis_log[i],nu_S,Z,proj_shock_S) for i in range(n_iter))"
   ]
  },
  {
   "cell_type": "code",
   "execution_count": 61,
   "id": "c53d9170",
   "metadata": {},
   "outputs": [
    {
     "name": "stdout",
     "output_type": "stream",
     "text": [
      "23.670004981957383 15.831041516334846 35.59340518219809\n"
     ]
    },
    {
     "data": {
      "image/png": "[encoded data removed]",
      "text/plain": [
       "<Figure size 864x576 with 1 Axes>"
      ]
     },
     "metadata": {
      "needs_background": "light"
     },
     "output_type": "display_data"
    }
   ],
   "source": [
    "#Plotting histogram of electron density using L-band observations\n",
    "median_L = np.nanpercentile(elec_density_L,50)\n",
    "low_lim_L = np.nanpercentile(elec_density_L,16)\n",
    "high_lim_L = np.nanpercentile(elec_density_L,84)\n",
    "print(median_L,low_lim_L,high_lim_L)\n",
    "histplot = plt.hist(elec_density_L,bins=50,color='orange',edgecolor='w',density=True,alpha=0.7)\n",
    "plt.vlines([low_lim_L,high_lim_L],0,max(histplot[0])*1.1,linestyles=':',colors='midnightblue')\n",
    "plt.vlines(median_L,0,max(histplot[0])*1.1,linestyles=':',colors='midnightblue')\n",
    "plt.ylim(0,max(histplot[0])*1.1)\n",
    "plt.ylabel('Probability density', fontsize=12)\n",
    "plt.xlabel(r'$n_e(T)$ [cm$^{-3}$]', fontsize=12)\n",
    "plt.minorticks_on()\n",
    "plt.tick_params(axis='both', which='major', labelsize=12)\n",
    "plt.tick_params(axis='both', which='major', length=9)\n",
    "plt.tick_params(axis='both', which='minor', length=4.5)\n",
    "plt.tick_params(axis='both', which='both',direction='in',right=True,top=True)\n",
    "plt.show()"
   ]
  },
  {
   "cell_type": "code",
   "execution_count": 62,
   "id": "bd0944e8",
   "metadata": {},
   "outputs": [
    {
     "name": "stdout",
     "output_type": "stream",
     "text": [
      "27.961366190880163 18.724041132293276 42.13326324437815\n"
     ]
    },
    {
     "data": {
      "image/png": "[encoded data removed]",
      "text/plain": [
       "<Figure size 864x576 with 1 Axes>"
      ]
     },
     "metadata": {
      "needs_background": "light"
     },
     "output_type": "display_data"
    }
   ],
   "source": [
    "#Plotting histogram of electron density using S-band observations\n",
    "\n",
    "median_S = np.nanpercentile(elec_density_S,50)\n",
    "low_lim_S = np.nanpercentile(elec_density_S,16)\n",
    "high_lim_S = np.nanpercentile(elec_density_S,84)\n",
    "print(median_S,low_lim_S,high_lim_S)\n",
    "histplot = plt.hist(elec_density_S,bins=50,color='orange',edgecolor='w',density=True,alpha=0.7)\n",
    "plt.vlines([low_lim_S,high_lim_S],0,max(histplot[0])*1.1,linestyles=':',colors='midnightblue')\n",
    "plt.vlines(median_S,0,max(histplot[0])*1.1,linestyles=':',colors='midnightblue')\n",
    "plt.ylim(0,max(histplot[0])*1.1)\n",
    "plt.ylabel('Probability density', fontsize=12)\n",
    "plt.xlabel(r'$n_e(T)$ [cm$^{-3}$]', fontsize=12)\n",
    "plt.minorticks_on()\n",
    "plt.tick_params(axis='both', which='major', labelsize=12)\n",
    "plt.tick_params(axis='both', which='major', length=9)\n",
    "plt.tick_params(axis='both', which='minor', length=4.5)\n",
    "plt.tick_params(axis='both', which='both',direction='in',right=True,top=True)\n",
    "plt.show()"
   ]
  },
  {
   "cell_type": "markdown",
   "id": "c2f143d3",
   "metadata": {},
   "source": [
    "## Calculating electron density with H alpha observations"
   ]
  },
  {
   "cell_type": "markdown",
   "id": "58c014d2",
   "metadata": {},
   "source": [
    "We can find a similar relation by considering the H $\\alpha$ surface brightness. For this, we can use the equation in Gvaramadze et al. (2018):\n",
    "\n",
    "$$j_{\\rm H\\alpha} = 2.85\\times10^{-33}\\text{erg s}^{-1}\\text{ cm}^{-3}\\text{ arcsec}^{-2} \\left( \\frac{T}{\\text{K}} \\right)^{-0.9}\\left(\\frac{n_e}{\\text{cm}^{-3}}\\right)^2$$\n",
    "\n",
    "The temperature and $n_e$ depend on position, but in our analysis, we have assumed they are uniform with depth. So then, we find that the surface brightness is given by:\n",
    "\n",
    "$$S_{\\rm H\\alpha} = \\int j_{\\rm H\\alpha}(x) dx = j_{\\rm H\\alpha} \\Delta$$\n",
    "\n",
    "Thus:\n",
    "\n",
    "$$n_e(T) = \\sqrt{S_{\\rm H\\alpha}\\frac{(T/\\text{K})^{0.9}}{C_{\\rm H\\alpha}\\Delta}} \\text{ cm}^{-3}$$ \n",
    "\n",
    "where $C_{\\rm H\\alpha} = 2.85\\times10^{-33}\\text{erg s}^{-1}\\text{ cm}^{-3}\\text{ arcsec}^{-2}$ and $\\Delta$ is the width of the bowshock in cm.\n",
    "The temperature range used is defined by the range of temperatures where the above equation is valid.\n",
    "\n"
   ]
  },
  {
   "cell_type": "code",
   "execution_count": 63,
   "id": "075dc21c",
   "metadata": {},
   "outputs": [],
   "source": [
    "Sh = 1.3e-16 * u.erg * ((u.second)**-1)*((u.cm)**-2)*((u.arcsecond)**-2) #obtained from Sell et al. 2015 has the units ergs s-1 cm-2 arcsec-2\n",
    "Sh_err = 1.3e-17                                                         #assuming a 10% error margin on Sh\n",
    "Ch = 2.85e-33* u.erg * ((u.second)**-1)*((u.cm)**-3)*((u.arcsecond)**-2) #Units of erg s-1 cm-3 arcsec-2\n",
    "Halpha_thic_min = 6*u.arcsecond                                          #min thickness from Russell 2007\n",
    "Halpha_thic_max = 40*u.arcsecond                                         #max thickness from Russell 2007\n",
    "\n",
    "D = 2.2e3 *u.parsec\n",
    "Halpha_thic_min_arcsec = Halpha_thic_min.to(u.arcsec)\n",
    "arcsec_to_size = (1 * u.arcsec).to(u.radian).value * D                   #the conversion between arcsecond to size at the distance of Cyg X-1\n",
    "Halpha_thic_min_parsec = (Halpha_thic_min.value*arcsec_to_size)\n",
    "Halpha_thic_min_cm = Halpha_thic_min_parsec.to(u.cm)\n",
    "\n",
    "Halpha_thic_max_arcsec = Halpha_thic_max.to(u.arcsec)\n",
    "Halpha_thic_max_parsec = (Halpha_thic_max.value*arcsec_to_size)\n",
    "Halpha_thic_max_cm = Halpha_thic_max_parsec.to(u.cm)\n",
    "\n",
    "Ring_thic_tab2 = 1.6e18*u.cm                                            #russell 2007 average thickness in Table 2 to be used for calculations here\n",
    "Ring_thic_tab2_err = 1.6e17*u.cm                                        #assuming 10% error\n",
    "\n",
    "def ha_ne(S,T,Ring):\n",
    "    Ha_ne = ((S*(T**0.9))/(Ch.value*Ring))**0.5\n",
    "    return(Ha_ne)\n",
    "\n",
    "def T_alpha(ne_alpha, S, Ring):\n",
    "    temp_range_alpha = ((((ne_alpha)**2)*(Ch.value*Ring))/S)**0.9\n",
    "    return(temp_range_alpha)\n"
   ]
  },
  {
   "cell_type": "code",
   "execution_count": 64,
   "id": "e6e33978",
   "metadata": {},
   "outputs": [],
   "source": [
    "# Create distributions to use as input for H_alpha temperature determination\n",
    "# Source parameters, :\n",
    "Halpha_Flux = np.random.normal(Sh.value,Sh_err,n_iter)\n",
    "Ring_thic_cm = np.random.normal(Ring_thic_tab2.value,Ring_thic_tab2_err.value,n_iter)\n",
    "T_axis_alpha_log = np.logspace(np.log10(5000), np.log10(20000), num=n_iter, base=10, endpoint=True)"
   ]
  },
  {
   "cell_type": "code",
   "execution_count": 65,
   "id": "f1fae95a",
   "metadata": {},
   "outputs": [
    {
     "name": "stderr",
     "output_type": "stream",
     "text": [
      "[Parallel(n_jobs=16)]: Using backend LokyBackend with 16 concurrent workers.\n",
      "[Parallel(n_jobs=16)]: Done  40 tasks      | elapsed:    0.4s\n",
      "[Parallel(n_jobs=16)]: Done 5000 out of 5000 | elapsed:    0.7s finished\n"
     ]
    }
   ],
   "source": [
    "#range of ne densities based on the considered temperature range\n",
    "elec_density_Ha = Parallel(n_jobs=n_cores,verbose=5)(delayed(ha_ne)(Halpha_Flux[i],T_axis_alpha_log[i],Ring_thic_cm[i]) for i in range(n_iter))"
   ]
  },
  {
   "cell_type": "code",
   "execution_count": 66,
   "id": "3850ff6b",
   "metadata": {},
   "outputs": [
    {
     "name": "stdout",
     "output_type": "stream",
     "text": [
      "10.656942915964173 8.591896739807469 13.204183231132662\n"
     ]
    },
    {
     "data": {
      "image/png": "[encoded data removed]",
      "text/plain": [
       "<Figure size 864x576 with 1 Axes>"
      ]
     },
     "metadata": {
      "needs_background": "light"
     },
     "output_type": "display_data"
    }
   ],
   "source": [
    "#Plotting histogram of electron density using Halpha observations\n",
    "median = np.nanpercentile(elec_density_Ha,50)\n",
    "low_lim = np.nanpercentile(elec_density_Ha,16)\n",
    "high_lim = np.nanpercentile(elec_density_Ha,84)\n",
    "print(median,low_lim,high_lim)\n",
    "histplot = plt.hist(elec_density_Ha,bins=50,color='orange',edgecolor='w',density=True,alpha=0.7)\n",
    "plt.vlines([low_lim,high_lim],0,max(histplot[0])*1.1,linestyles=':',colors='midnightblue')\n",
    "plt.vlines(median,0,max(histplot[0])*1.1,linestyles=':',colors='midnightblue')\n",
    "plt.ylim(0,max(histplot[0])*1.1)\n",
    "plt.ylabel('Probability density', fontsize=12)\n",
    "plt.xlabel(r'$n_e(T)$ [cm$^{-3}$]', fontsize=12)\n",
    "plt.minorticks_on()\n",
    "plt.tick_params(axis='both', which='major', labelsize=12)\n",
    "plt.tick_params(axis='both', which='major', length=9)\n",
    "plt.tick_params(axis='both', which='minor', length=4.5)\n",
    "plt.tick_params(axis='both', which='both',direction='in',right=True,top=True)\n",
    "plt.show()"
   ]
  },
  {
   "cell_type": "markdown",
   "id": "708b23f5",
   "metadata": {},
   "source": [
    "## Shock velocity measurement:"
   ]
  },
  {
   "cell_type": "markdown",
   "id": "c65adc57",
   "metadata": {},
   "source": [
    "Velocity of the bow shock can be estimated by the velocity of the leading end of the shock, which is dictated by the velocity of the end of the shocking jet.\n",
    "\n",
    "$$ \\dot{L} = \\sqrt{\\frac{16 k_b}{3 m_p}T}$$\n",
    "\n",
    "where $m_p$ is the mass of the proton. \n",
    "For a strong shock in a mono-atomic gas, the expansion velocity is set by the temperature of the shocked gas. If the shock is radiative the initial post-shock temperature can be higher than that of the thermalized, bremsstrahlung-emitting gas. A stringent constraint comes from X-ray observations and the upper limit to the gas temperature was set at T ~ 10 $^6$ K in G05. "
   ]
  },
  {
   "cell_type": "code",
   "execution_count": 67,
   "id": "f29452dd",
   "metadata": {},
   "outputs": [],
   "source": [
    "T_axis_log = np.logspace(np.log10(10**4), np.log10(3*(10**6)), num=n_iter, base=10, endpoint=True) #using upper limit derived from X-ray non-detection\n",
    "v_range = ( (16*T_axis_log*kb)/(3*mh) )**(1/2)/1e5\n",
    "v_range_cm = ( (16*T_axis_log*kb)/(3*mh) )**(1/2)"
   ]
  },
  {
   "cell_type": "code",
   "execution_count": 68,
   "id": "6e699af8",
   "metadata": {},
   "outputs": [
    {
     "name": "stdout",
     "output_type": "stream",
     "text": [
      "Velocity range 20.975903969816827 363.3133141040846\n"
     ]
    },
    {
     "data": {
      "image/png": "[encoded data removed]",
      "text/plain": [
       "<Figure size 864x576 with 1 Axes>"
      ]
     },
     "metadata": {
      "needs_background": "light"
     },
     "output_type": "display_data"
    }
   ],
   "source": [
    "fig = plt.figure()\n",
    "ax = fig.add_subplot(111)\n",
    "ax.yaxis.set_ticks_position('both')\n",
    "ax.xaxis.set_ticks_position('both')\n",
    "ax.get_yaxis().set_tick_params(direction='in', which='both')\n",
    "ax.get_xaxis().set_tick_params(direction='in', which='both')\n",
    "ax.set_xscale('log')\n",
    "ax.set_yscale('log')\n",
    "ax.set_xlabel(r'Temperature [K]', fontsize=12)\n",
    "ax.set_ylabel(r'Velocity [km s$^{-1}$]', fontsize=12)\n",
    "plt.tight_layout()\n",
    "plt.scatter(T_axis_log,v_range,s=10,color='purple',alpha=0.1)\n",
    "print('Velocity range',v_range[0],v_range[n_iter-1])"
   ]
  },
  {
   "cell_type": "markdown",
   "id": "9ef83a43",
   "metadata": {},
   "source": [
    "## Jet age measurement:"
   ]
  },
  {
   "cell_type": "markdown",
   "id": "f87b3082",
   "metadata": {},
   "source": [
    "$$ t = \\frac{3 L_j}{5 \\dot{L_j}} $$\n",
    "\n",
    "where $L_j$ is the seperation between the leading edge of the bowshock and the target and $\\dot{L_j}$ is the velocity of the bow shock estimated from the temperature of the ISM. Since the angular seperation between the leading edge of the bow shock and Cyg X-1 is the same in both the L and S-band, we use only one velocity estimate to derive the jet age, and more appropriately S-band due to the higher resolution measurement. "
   ]
  },
  {
   "cell_type": "code",
   "execution_count": 69,
   "id": "58c3e4de",
   "metadata": {},
   "outputs": [],
   "source": [
    "def age(disamin,d,incl,v):\n",
    "    disasec = disamin*60                      #lobe target seperation in arcsec (projected)\n",
    "    dispc = disasec*d*1e3*4.8*1e-6            #lobe target separation in pc (projected)\n",
    "    discmP = dispc*pc                         #lobe target sepeartion in cm (projected)\n",
    "    discm = discmP/math.sin(incl*math.pi/180) #lobe target de-projected seperation to account for the inclination angle\n",
    "    t = 3/5*(discm/v)                         #time in seconds\n",
    "    t_age_Myr = t/(365.*24.*60*60)/1.0E+6     #age of shock in Myr\n",
    "    return t_age_Myr\n",
    "    "
   ]
  },
  {
   "cell_type": "code",
   "execution_count": 70,
   "id": "770577bb",
   "metadata": {
    "scrolled": true
   },
   "outputs": [
    {
     "name": "stderr",
     "output_type": "stream",
     "text": [
      "[Parallel(n_jobs=16)]: Using backend LokyBackend with 16 concurrent workers.\n",
      "[Parallel(n_jobs=16)]: Done 304 tasks      | elapsed:    0.2s\n",
      "[Parallel(n_jobs=16)]: Done 5000 out of 5000 | elapsed:    0.3s finished\n"
     ]
    }
   ],
   "source": [
    "# Generating distribution arrays for measurements\n",
    "len_min = np.random.normal(disamin_S,disamin_err_S, n_iter) #distance between bowshock and target in arcmin\n",
    "i_angle = np.random.normal(incl,incl_err,n_iter)            #inclination angle\n",
    "#Obtaining distribution of age for different input parameters\n",
    "t_age = Parallel(n_jobs=n_cores,verbose=5)(delayed(age)(len_min[i],dist[i],i_angle[i],v_range_cm[i]) for i in range(n_iter))"
   ]
  },
  {
   "cell_type": "code",
   "execution_count": 71,
   "id": "a8c81d51",
   "metadata": {},
   "outputs": [
    {
     "name": "stdout",
     "output_type": "stream",
     "text": [
      "0.09705886332386533 0.03673806099212476 0.25510151355288957\n"
     ]
    },
    {
     "data": {
      "image/png": "[encoded data removed]",
      "text/plain": [
       "<Figure size 864x576 with 1 Axes>"
      ]
     },
     "metadata": {
      "needs_background": "light"
     },
     "output_type": "display_data"
    }
   ],
   "source": [
    "median = np.percentile(t_age,50)\n",
    "low_lim = np.percentile(t_age,16)\n",
    "high_lim = np.percentile(t_age,84)\n",
    "print(median,low_lim,high_lim)\n",
    "histplot = plt.hist(t_age,bins=70,color='orange',edgecolor='w',density=True,alpha=0.7)\n",
    "plt.vlines([low_lim,high_lim],0,max(histplot[0])*1.1,linestyles=':',colors='midnightblue')\n",
    "plt.vlines(median,0,max(histplot[0])*1.1,linestyles=':',colors='midnightblue')\n",
    "plt.ylim(0,max(histplot[0])*1.1)\n",
    "plt.ylabel('Probability density', fontsize=12)\n",
    "plt.xlabel('Age [Myr]', fontsize=12)\n",
    "plt.minorticks_on()\n",
    "plt.tick_params(axis='both', which='major', labelsize=12)\n",
    "plt.tick_params(axis='both', which='major', length=9)\n",
    "plt.tick_params(axis='both', which='minor', length=4.5)\n",
    "plt.tick_params(axis='both', which='both',direction='in',right=True,top=True)\n",
    "plt.show()"
   ]
  },
  {
   "cell_type": "markdown",
   "id": "609cc49a",
   "metadata": {},
   "source": [
    "The evolution of the large-scale structure created by the jet (lobe and bow shock), is self-similar once the jet extends beyond its characteristic length scale, given by (Kaiser et al. 1997):\n",
    "$$ L_0 = (\\frac{\\rho_0^2 Q_0}{\\dot{M}_0^3})^{-1/4} = [\\frac{Q_0^2}{\\rho_0^2 c^6(\\gamma_j -1)}]^{1/4}$$\n",
    "\n",
    "where $\\dot{M_0}$ is the mass transport rate of the jet, and $\\gamma_j$ is the Lorentz factor of the jet material.\n",
    "\n",
    "\n",
    "gamma is assumed as 1.1, which maximizes $L_{0}$\n",
    "\n",
    "It is clear that the modelling can be applied, given the characteristic length is smaller than the scale of the jet length.\n"
   ]
  },
  {
   "cell_type": "code",
   "execution_count": 72,
   "id": "9e0066e8",
   "metadata": {},
   "outputs": [
    {
     "name": "stdout",
     "output_type": "stream",
     "text": [
      "Characteristic jet length scale [pc] (L0) =  7.842e-05\n",
      "Jet length [pc] (Lj) =  6.843e+00\n"
     ]
    }
   ],
   "source": [
    "# Calculation of L0\n",
    "rho0 = 2.0e-23 #density in g/cm3\n",
    "gammaj = 1.1\n",
    "Q0 = 1.0E+37\n",
    "L0 = ( (Q0**2) / (rho0**2*c**6*(gammaj-1)) )**(1/4)\n",
    "print('Characteristic jet length scale [pc] (L0) = ', '{:.3e}'.format(L0/pc))\n",
    "print('Jet length [pc] (Lj) = ', '{:.3e}'.format(discmP_L/pc))\n"
   ]
  },
  {
   "cell_type": "markdown",
   "id": "aef86f91",
   "metadata": {},
   "source": [
    "Assuming that the jet direction remains constant over time,  and that the jet is colliding with a medium of density $\\rho_0$, the power $Q_{jet}$ being transported by the jets averaged over its lifetime is solely dependent on the properties of the ISM at the interaction site. Combining the equations for $L_j$ and $\\dot{L_j}$ we obtain: \n",
    "\n",
    "\n",
    "$$ Q_{jet} = (\\frac{5}{3})^3~\\frac{\\rho_0}{C1^5}L_j^2 ~\\dot{L_j}^3$$\n",
    "\n",
    "Things to note here are the differences with the literature. For eg. the C1 constant here has been used as an assumed value of 1 in Gallo et al. 2005 and as 1.5 in Kaiser et al. 2004. The constant C1 depends on the jet opening angle, and a value of 1 implies a jet opening angle of 90deg (unrealistic). The better option is to use measured values of the opening angle. So, we will instead calculate C1 for a range of the measured opening angle of Cyg X-1 and also for a more conservative range of 0-30 deg.\n",
    "\n",
    "The pressure inside the lobe is given by: \n",
    "\n",
    "$$ p = 0.0675 \\frac{C_1^{10/3}}{R^2}(\\frac{\\rho_0 Q_0^2}{L_j^4})^{1/3}$$\n"
   ]
  },
  {
   "cell_type": "code",
   "execution_count": 73,
   "id": "7cfe3e48",
   "metadata": {},
   "outputs": [],
   "source": [
    "def power(theta,nee,disamin,vcm):\n",
    "    theta_rad = theta*math.pi/180            #Jet opening angle, in radians\n",
    "    C2 = (((Gammac-1)*(Gammaj-1))/(4*Gammac) + 1 )**(Gammac/(Gammac-1)) * ((Gammaj+1)/(Gammaj-1))\n",
    "    Rax = math.sqrt((1/4*(C2/theta_rad**2))) #axial ratio of the jet-blown cavity                         \n",
    "    C3 = math.pi/(4*Rax**2)\n",
    "    C1 = ((C2)/(C3*theta_rad**2)*((Gammax+1)*(Gammac-1)*(5-beta)**3)/(18*(9*(Gammac + (Gammac -1)*(C2/(4*theta_rad**2))) - 4 - beta)) )**(1/(5-beta))\n",
    "    rho = nee*1.370*mh;                      #Density of the gas down-stream of the shock, in cm-3 \n",
    "    rho0 = rho/4;                            #Density of the gas, up-stream of the shock, in cm-3\n",
    "    disasec = disamin*60                     #lobe target seperation in arcsec (projected)\n",
    "    dispc = disasec*d*1e3*4.8*1e-6           #lobe target separation in pc (projected)\n",
    "    discmP = dispc*pc                        #lobe target sepeartion in cm (projected)\n",
    "    discm = discmP/math.sin(incl*math.pi/180) #lobe target de-projected seperation to account for the inclination angle\n",
    "    Pjet = (5/3)**3 * rho0/(C1**5)*discm**2*vcm**3   \n",
    "    return Pjet"
   ]
  },
  {
   "cell_type": "code",
   "execution_count": 74,
   "id": "cec6841e",
   "metadata": {},
   "outputs": [],
   "source": [
    "def press(theta,d,nee,disamin,vcm):\n",
    "    beta = 0\n",
    "    theta_rad = theta*np.pi/180            # Jet opening angle, in radiants\n",
    "    Con2 = (((Gammac-1)*(Gammaj-1))/(4*Gammac) + 1 )**(Gammac/(Gammac-1)) * ((Gammaj+1)/(Gammaj-1))\n",
    "    Rax = np.sqrt((1/4*(Con2/theta_rad**2))) # axial ratio of the jet-blown cavity                         \n",
    "    Con3 = np.pi/(4*Rax**2)\n",
    "    Con1 = ((Con2)/(Con3*theta_rad**2)*((Gammax+1)*(Gammac-1)*(5-beta)**3)/(18*(9*(Gammac + (Gammac -1)*(Con2/(4*theta_rad**2))) - 4 - beta)) )**(1/(5-beta))  \n",
    "    rho = nee*1.370*mh;                    # Density of the gas down-stream of the shock, in cm-3 (calculated above with the calorimetry method above)\n",
    "    rho0 = rho/4;                          # Density of the gas, up-stream of the shock, in cm-3\n",
    "    disasec = disamin*60                   # lobe target seperation in arcsec (projected)\n",
    "    dispc = disasec*d*1e3*4.8*1e-6         # lobe target separation in pc (projected)\n",
    "    discmP = dispc*pc                      # lobe target sepeartion in cm (projected)\n",
    "    discm = discmP/np.sin(incl*np.pi/180)  # lobe target de-projected seperation to account for the inclination angle\n",
    "    Pjet = (5/3)**3 * rho0/(Con1**5)*(discm**2)*vcm**3   # Upper limit to time averaged jet power \n",
    "    pminjet = 0.0675*(Con1**(10/3)/Rax**2)*(rho0*Pjet**2/(discm**4))**(1/3)\n",
    "    return pminjet\n"
   ]
  },
  {
   "cell_type": "code",
   "execution_count": 87,
   "id": "67ded5a4",
   "metadata": {},
   "outputs": [
    {
     "name": "stderr",
     "output_type": "stream",
     "text": [
      "[Parallel(n_jobs=16)]: Using backend LokyBackend with 16 concurrent workers.\n"
     ]
    },
    {
     "name": "stderr",
     "output_type": "stream",
     "text": [
      "[Parallel(n_jobs=16)]: Done  40 tasks      | elapsed:    0.9s\n",
      "[Parallel(n_jobs=16)]: Done 473 tasks      | elapsed:    1.1s\n",
      "[Parallel(n_jobs=16)]: Done 5000 out of 5000 | elapsed:    1.7s finished\n"
     ]
    }
   ],
   "source": [
    "# Generating distribution arrays for measurements\n",
    "#open_angle = np.random.uniform(0,30, n_iter) #using more conservative opening angle\n",
    "open_angle = np.logspace(np.log10(0.3),np.log10(2),num=n_iter,base=10,endpoint=True)\n",
    "ne_constrained = np.random.uniform(19,42,n_iter) #from the constraints using S-band radio fluxes\n",
    "#Obtaining distribution of power for different input parameters\n",
    "power_j = Parallel(n_jobs=n_cores,verbose=5)(delayed(power)(open_angle[i],ne_constrained[i],len_min[i],v_range_cm[i]) for i in range(n_iter))"
   ]
  },
  {
   "cell_type": "code",
   "execution_count": 88,
   "id": "44805939",
   "metadata": {},
   "outputs": [
    {
     "name": "stdout",
     "output_type": "stream",
     "text": [
      "1.5542849002094103e+33 2.344998929790839e+31 1.0522559944140773e+35\n"
     ]
    },
    {
     "data": {
      "image/png": "[encoded data removed]",
      "text/plain": [
       "<Figure size 864x576 with 1 Axes>"
      ]
     },
     "metadata": {
      "needs_background": "light"
     },
     "output_type": "display_data"
    }
   ],
   "source": [
    "median = np.percentile(power_j,50)\n",
    "low_lim = np.percentile(power_j,16)\n",
    "high_lim = np.percentile(power_j,84)\n",
    "print(median,low_lim,high_lim)\n",
    "histplot = plt.hist(power_j,color='orange',bins=100,edgecolor='w',density=True,alpha=0.7)\n",
    "plt.ylabel('Probability density', fontsize=12)\n",
    "plt.xlabel('Power', fontsize=12)\n",
    "plt.minorticks_on()\n",
    "plt.tick_params(axis='both', which='major', labelsize=12)\n",
    "plt.tick_params(axis='both', which='major', length=9)\n",
    "plt.tick_params(axis='both', which='minor', length=4.5)\n",
    "plt.tick_params(axis='both', which='both',direction='in',right=True,top=True)\n",
    "plt.show()"
   ]
  },
  {
   "cell_type": "code",
   "execution_count": 77,
   "id": "4f48cdcc",
   "metadata": {},
   "outputs": [
    {
     "name": "stderr",
     "output_type": "stream",
     "text": [
      "[Parallel(n_jobs=16)]: Using backend LokyBackend with 16 concurrent workers.\n",
      "[Parallel(n_jobs=16)]: Done 528 tasks      | elapsed:    0.3s\n",
      "[Parallel(n_jobs=16)]: Done 5000 out of 5000 | elapsed:    0.4s finished\n"
     ]
    }
   ],
   "source": [
    "#calculating pressure inside bowshock\n",
    "pressure_j = Parallel(n_jobs=n_cores,verbose=5)(delayed(press)(open_angle[i],dist[i],ne_constrained[i],len_min[i],v_range_cm[i]) for i in range(n_iter))"
   ]
  },
  {
   "cell_type": "code",
   "execution_count": 78,
   "id": "65c63434",
   "metadata": {},
   "outputs": [
    {
     "name": "stdout",
     "output_type": "stream",
     "text": [
      "3.9485140568929913e-14 1.5274121583763713e-15 9.471587886519662e-13\n"
     ]
    },
    {
     "data": {
      "image/png": "[encoded data removed]",
      "text/plain": [
       "<Figure size 864x576 with 1 Axes>"
      ]
     },
     "metadata": {
      "needs_background": "light"
     },
     "output_type": "display_data"
    }
   ],
   "source": [
    "median = np.percentile(pressure_j, 50)\n",
    "low_lim = np.percentile(pressure_j, 16)\n",
    "high_lim = np.percentile(pressure_j, 84)\n",
    "print(median, low_lim, high_lim)\n",
    "histplot = plt.hist(pressure_j, color='orange', bins=100, edgecolor='w', density=True, alpha=0.7)\n",
    "#plt.vlines([low_lim,high_lim],0,max(histplot[0])*1.1,linestyles=':',colors='midnightblue')\n",
    "#plt.vlines(median,0,max(histplot[0])*1.1,linestyles=':',colors='midnightblue')\n",
    "#plt.ylim(0,max(histplot[0])*1.1)\n",
    "plt.ylabel('Probability density', fontsize=12)\n",
    "plt.xlabel('Pressure', fontsize=12)\n",
    "#plt.xlim(0,1e39)\n",
    "#plt.title(str(name))\n",
    "plt.minorticks_on()\n",
    "plt.tick_params(axis='both', which='major', labelsize=12)\n",
    "plt.tick_params(axis='both', which='major', length=9)\n",
    "plt.tick_params(axis='both', which='minor', length=4.5)\n",
    "plt.tick_params(axis='both', which='both', direction='in', right=True, top=True)\n",
    "plt.show()"
   ]
  }
 ],
 "metadata": {
  "kernelspec": {
   "display_name": "py36",
   "language": "python",
   "name": "python3"
  },
  "language_info": {
   "codemirror_mode": {
    "name": "ipython",
    "version": 3
   },
   "file_extension": ".py",
   "mimetype": "text/x-python",
   "name": "python",
   "nbconvert_exporter": "python",
   "pygments_lexer": "ipython3",
   "version": "3.6.13"
  }
 },
 "nbformat": 4,
 "nbformat_minor": 5
}
