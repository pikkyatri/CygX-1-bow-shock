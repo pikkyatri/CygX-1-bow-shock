{
 "cells": [
  {
   "cell_type": "code",
   "execution_count": null,
   "metadata": {},
   "outputs": [],
   "source": [
    "import astropy\n",
    "import numpy as np\n",
    "import matplotlib.pyplot as plt\n",
    "from matplotlib import rc\n",
    "import matplotlib.gridspec as gridspec\n",
    "from astropy import coordinates as coord\n",
    "from astropy import units as u\n",
    "from astropy.io import ascii, fits\n",
    "from astropy.nddata import Cutout2D\n",
    "from astropy import wcs\n",
    "import FITS_tools\n",
    "from astropy.wcs import WCS\n",
    "from astropy.units import cds\n",
    "\n",
    "import aplpy\n",
    "\n",
    "# Package versions:\n",
    "print('Running on:')\n",
    "print(f'\\tAstropy\\t\\t{astropy.__version__}')\n",
    "print(f'\\tMatplotlib\\t{plt.matplotlib.__version__}')\n",
    "print(f'\\tNumpy\\t\\t{np.__version__}')\n",
    "print(f'\\tAplpy\\t\\t{aplpy.__version__}')\n",
    "#\n",
    "%matplotlib inline\n",
    "#python3.6\n",
    "rc('text', usetex=True)\n",
    "font = {'family' : 'serif','size'   : 18}\n",
    "rc('font', **font)"
   ]
  },
  {
   "cell_type": "code",
   "execution_count": null,
   "metadata": {},
   "outputs": [],
   "source": [
    "import matplotlib as mpl\n",
    "mpl.rcParams.update(mpl.rcParamsDefault)"
   ]
  },
  {
   "cell_type": "code",
   "execution_count": null,
   "metadata": {},
   "outputs": [],
   "source": [
    "def fix_aplpy_fits(aplpy_obj, dropaxis=2):\n",
    "    \"\"\"This removes the degenerated dimensions because in APLpy 2.X they fucked it up...\n",
    "    The input must be the figure returned by aplpy.FITSFigure().\n",
    "    `dropaxis` is the index where to start dropping the axis (by default it assumes the 3rd,4th place).\n",
    "    \"\"\"\n",
    "    temp_wcs = aplpy_obj._wcs.dropaxis(2)\n",
    "    temp_wcs = temp_wcs.dropaxis(2)\n",
    "    aplpy_obj._wcs = temp_wcs"
   ]
  },
  {
   "cell_type": "code",
   "execution_count": null,
   "metadata": {},
   "outputs": [],
   "source": [
    "def contour_levels(rms, nsigma=3, n_pos=5, n_neg=1):\n",
    "    \"\"\" Return a list with the values of fluxes to plot a contour figure.\n",
    "    n_* are the number of contours to positive values (above rms level) or\n",
    "    negative ones (below rms level).\n",
    "    It returns three lists:\n",
    "    - with the negative and positive values for contours.\n",
    "    - with only the positive contour values.\n",
    "    - with only the negative contour values\"\"\"\n",
    "    conts_p = [ rms*nsigma*2**(i/2.) for i in range(n_pos)]\n",
    "    conts_n = [ -rms*5*2**(i/2.) for i in range(n_neg)]\n",
    "    conts = conts_n[::-1]\n",
    "    [conts.append(c) for c in conts_p]\n",
    "    return conts, conts_p,conts_n "
   ]
  },
  {
   "cell_type": "code",
   "execution_count": null,
   "metadata": {},
   "outputs": [],
   "source": [
    "# Because Difmap FITS files do not insert correctly BMAJ, BMIN, PA in the header..\n",
    "bursts = {'B1': {'beam': {'major': 4*u.mas, 'minor': 2*u.mas, 'angle': 16}},\n",
    "          'B2': {'beam': {'major': 10*u.mas, 'minor': 5*u.mas, 'angle': 15}}\n",
    "          }    "
   ]
  },
  {
   "cell_type": "code",
   "execution_count": null,
   "metadata": {},
   "outputs": [],
   "source": [
    "#Adding folder to the path\n",
    "folder = '14arcsec'\n",
    "fov = '55arcsec'\n",
    "#load data\n",
    "L_band = folder + '/L-band.fits'\n",
    "S_band = folder + '/S-band_conv.fits'"
   ]
  },
  {
   "cell_type": "markdown",
   "metadata": {},
   "source": [
    "# First: create cutouts with updated WCS with the same centroid position"
   ]
  },
  {
   "cell_type": "code",
   "execution_count": null,
   "metadata": {},
   "outputs": [],
   "source": [
    "centroid_position = coord.SkyCoord('19h58m14.81720s', '35d16m52.151626s', frame='icrs')\n",
    "cutout_size = u.Quantity((55., 55.), u.arcmin) #edit based on the size of the spectral index map you want to make\n",
    "print(centroid_position.ra.deg, centroid_position.dec.deg)"
   ]
  },
  {
   "cell_type": "code",
   "execution_count": null,
   "metadata": {},
   "outputs": [],
   "source": [
    "filename = L_band\n",
    "hdu = fits.open(filename)[0]\n",
    "data = hdu.data[0,0,:,:] #modify data to change the fits file into a 2D shape\n",
    "hdu.header['NAXIS'] = 2\n",
    "hdu.header['WCSAXES']=2\n",
    "# delete all keywords of additional axis\n",
    "del hdu.header['NAXIS3']\n",
    "del hdu.header['NAXIS4']\n",
    "del hdu.header['CTYPE3']\n",
    "del hdu.header['CRPIX3']\n",
    "del hdu.header['CRVAL3']\n",
    "del hdu.header['CDELT3']\n",
    "del hdu.header['CUNIT3']\n",
    "del hdu.header['CTYPE4']\n",
    "del hdu.header['CRPIX4']\n",
    "del hdu.header['CRVAL4']\n",
    "del hdu.header['CDELT4']\n",
    "del hdu.header['CUNIT4']\n",
    "wcs = WCS(hdu.header)\n",
    "#print(hdu.header)\n",
    "# Make the cutout, including the WCS\n",
    "cutout = Cutout2D(data, position=centroid_position, size=cutout_size, wcs=wcs)\n",
    "\n",
    "# Put the cutout image in the FITS HDU\n",
    "hdu.data = cutout.data\n",
    "\n",
    "# Update the FITS header with the cutout WCS\n",
    "hdu.header.update(cutout.wcs.to_header())\n",
    "\n",
    "# Write the cutout to a new FITS file\n",
    "cutout_filename = folder + '/L_band_cropped_'+fov+'.fits'\n",
    "hdu.writeto(cutout_filename, overwrite=True)"
   ]
  },
  {
   "cell_type": "code",
   "execution_count": null,
   "metadata": {},
   "outputs": [],
   "source": [
    "# Load the image and the WCS: S band\n",
    "filename = S_band\n",
    "hdu = fits.open(filename)[0]\n",
    "data = hdu.data[0,0,:,:] #modify data to change the fits file into a 2D shape\n",
    "hdu.header['NAXIS'] = 2\n",
    "hdu.header['WCSAXES']=2\n",
    "# delete all keywords of additional axis\n",
    "del hdu.header['NAXIS3']\n",
    "del hdu.header['NAXIS4']\n",
    "del hdu.header['CTYPE3']\n",
    "del hdu.header['CRPIX3']\n",
    "del hdu.header['CRVAL3']\n",
    "del hdu.header['CDELT3']\n",
    "del hdu.header['CUNIT3']\n",
    "del hdu.header['CTYPE4']\n",
    "del hdu.header['CRPIX4']\n",
    "del hdu.header['CRVAL4']\n",
    "del hdu.header['CDELT4']\n",
    "del hdu.header['CUNIT4']\n",
    "wcs = WCS(hdu.header)\n",
    "\n",
    "# Make the cutout, including the WCS\n",
    "cutout = Cutout2D(data, position=centroid_position, size=cutout_size, wcs=wcs)\n",
    "\n",
    "# Put the cutout image in the FITS HDU\n",
    "hdu.data = cutout.data\n",
    "\n",
    "# Update the FITS header with the cutout WCS\n",
    "hdu.header.update(cutout.wcs.to_header())\n",
    "\n",
    "# Write the cutout to a new FITS file\n",
    "cutout_filename = folder + '/S_band_cropped_'+fov+'.fits'\n",
    "hdu.writeto(cutout_filename, overwrite=True)"
   ]
  },
  {
   "cell_type": "code",
   "execution_count": null,
   "metadata": {},
   "outputs": [],
   "source": [
    "Meer_S = folder + '/S_band_cropped_'+fov+'.fits'\n",
    "Meer_L = folder + '/L_band_cropped_'+fov+'.fits'"
   ]
  },
  {
   "cell_type": "code",
   "execution_count": null,
   "metadata": {},
   "outputs": [],
   "source": [
    "#Load data into arrays Sband\n",
    "fh = fits.open(Meer_S)\n",
    "data_S = fh[0].data.squeeze() # drops the size-1 axes if present\n",
    "header_S = fh[0].header\n",
    "mywcs_S = WCS(header_S).celestial\n",
    "\n",
    "fh.close()"
   ]
  },
  {
   "cell_type": "code",
   "execution_count": null,
   "metadata": {},
   "outputs": [],
   "source": [
    "fh = fits.open(Meer_L)\n",
    "data_L = fh[0].data.squeeze() # drops the size-1 axes if present\n",
    "header_L = fh[0].header\n",
    "mywcs_L = WCS(header_L).celestial\n",
    "\n",
    "fh.close()"
   ]
  },
  {
   "cell_type": "code",
   "execution_count": null,
   "metadata": {},
   "outputs": [],
   "source": [
    "# Frequencies in GHz:\n",
    "nu_L = 1.2840\n",
    "nu_S = 2.6249"
   ]
  },
  {
   "cell_type": "code",
   "execution_count": null,
   "metadata": {},
   "outputs": [],
   "source": [
    "# RMS values (need to check what units these are in):\n",
    "dflux_L = 24e-6 #Jy/beam here    \n",
    "dflux_S = 10e-6"
   ]
  },
  {
   "cell_type": "code",
   "execution_count": null,
   "metadata": {},
   "outputs": [],
   "source": [
    "alpha = np.zeros((len(data_L), len(data_L)), dtype='float32')\n",
    "dalpha = np.zeros((len(data_L), len(data_L)), dtype='float32')\n",
    "for i in range(len(data_L)):\n",
    "    for j in range(len(data_L)):\n",
    "        \n",
    "        flux_L = data_L[i,j]\n",
    "\n",
    "        # Note: this is a correction since the two datasets have the same beam size, but not the same pixel size.\n",
    "        # So the pixel index needs to be re-scaled for the MeerKAT S-band data.\n",
    "        i_S = int(i * len(data_S) / len(data_L))\n",
    "        j_S = int(j * len(data_S) / len(data_L))\n",
    "        \n",
    "        flux_S = data_S[i_S, j_S]\n",
    "\n",
    "        # Only calculating alpha when the flux density in both bands exceeds a threshold:\n",
    "        if flux_L > 2*dflux_L and flux_S > 2*dflux_S:\n",
    "            \n",
    "            alpha_ij = np.log10(flux_L / flux_S) / np.log10(nu_L / nu_S)\n",
    "            dalpha_ij = abs((1. / np.log10(nu_L / nu_S)) * np.sqrt((dflux_L/flux_L)**2. + (dflux_S/flux_S)**2.))\n",
    "            print(alpha_ij,dalpha_ij)\n",
    "\n",
    "        # Otherwise, save a NaN so that nothing gets plotted for those pixels. \n",
    "        else:\n",
    "                \n",
    "            alpha_ij = np.NaN\n",
    "            dalpha_ij = np.NaN\n",
    "            \n",
    "        alpha[i,j] = alpha_ij       \n",
    "        dalpha[i,j] = dalpha_ij   \n",
    "print(len(alpha),len(data_L))   "
   ]
  },
  {
   "cell_type": "code",
   "execution_count": null,
   "metadata": {},
   "outputs": [],
   "source": [
    "# Opening the L-band image and copying its header and wcs for the new alpha file (since it will have the same)\n",
    "fh = fits.open(Meer_L)\n",
    "header_ALPHA = fh[0].header\n",
    "mywcs_ALPHA = WCS(header_ALPHA).celestial\n",
    "# Setting the data equal to the calculated spectral indices:\n",
    "data_ALPHA = alpha\n",
    "\n",
    "new_header_ALPHA = FITS_tools.strip_headers.flatten_header(header_ALPHA)\n",
    "new_fh_ALPHA = fits.PrimaryHDU(data=data_ALPHA, header=new_header_ALPHA)\n",
    "\n",
    "new_fh_ALPHA.writeto(folder+'/alpha'+fov+'.fits', overwrite=True)\n",
    "\n",
    "fh.close()"
   ]
  },
  {
   "cell_type": "code",
   "execution_count": null,
   "metadata": {},
   "outputs": [],
   "source": [
    "# Opening the L-band image and copying its header and wcs for the new alpha uncertainty file (since it will have the same)\n",
    "fh = fits.open(Meer_L)\n",
    "header_dALPHA = fh[0].header\n",
    "mywcs_dALPHA = WCS(header_dALPHA).celestial\n",
    "\n",
    "# Setting the data equal to the calculated spectral indices:\n",
    "data_dALPHA = dalpha\n",
    "\n",
    "new_header_dALPHA = FITS_tools.strip_headers.flatten_header(header_dALPHA)\n",
    "new_fh_dALPHA = fits.PrimaryHDU(data=data_dALPHA, header=new_header_dALPHA)\n",
    "\n",
    "new_fh_dALPHA.writeto(folder+'/dalpha'+fov+'.fits', overwrite=True)\n",
    "\n",
    "fh.close()"
   ]
  },
  {
   "cell_type": "code",
   "execution_count": null,
   "metadata": {},
   "outputs": [],
   "source": [
    "fig = aplpy.FITSFigure(folder+'/alpha'+fov+'.fits')\n",
    "#fix_aplpy_fits(fig)\n",
    "fig.recenter(centroid_position.ra.value, centroid_position.dec.value, radius=0.5)\n",
    "fig.show_colorscale(cmap='jet', vmin=-3, vmax=1, stretch='linear') \n",
    "fig.add_colorbar()\n",
    "\n",
    "# Set the font properties for the colorbar axis label\n",
    "fig.colorbar.set_axis_label_text(r'Spectral index $\\alpha$')\n",
    "fig.colorbar.set_axis_label_font(size=18, weight='medium', \n",
    "                                 stretch='normal', family='serif', \n",
    "                                 style='normal', variant='normal')\n",
    "\n",
    "# Set the font properties for the colorbar tick labels\n",
    "fig.colorbar.set_font(size=18, weight='medium', \n",
    "                      stretch='normal', family='serif', \n",
    "                      style='normal', variant='normal')\n",
    "\n",
    "fig.colorbar.set_location('top')\n",
    "fig.axis_labels.set_font(**font)\n",
    "fig.axis_labels.set_ypad(-0.4)\n",
    "fig.axis_labels.set_xtext(r'R.A. (J2000)')\n",
    "fig.axis_labels.set_ytext(r'Dec. (J2000)')\n",
    "fig.add_beam()\n",
    "fig.beam.set_color('w')\n",
    "fig.beam.set_edgecolor('w')\n",
    "fig.frame.set_color('k')\n",
    "fig.ticks.set_color('k')\n",
    "fig.tick_labels.set_font(**font)\n",
    "#plt.show()\n",
    "plt.savefig(folder+'/Spectral_map_'+fov+'.pdf', bbox_inches='tight')\n"
   ]
  },
  {
   "cell_type": "code",
   "execution_count": null,
   "metadata": {},
   "outputs": [],
   "source": [
    "fig = aplpy.FITSFigure(folder+'/dalpha'+fov+'.fits')\n",
    "#fix_aplpy_fits(fig)\n",
    "fig.recenter(centroid_position.ra.value, centroid_position.dec.value, radius=0.5)\n",
    "fig.show_colorscale(cmap='gnuplot_r',vmin=0,vmax=1.8, stretch='linear') \n",
    "fig.add_colorbar()\n",
    "\n",
    "# Set the font properties for the colorbar axis label\n",
    "fig.colorbar.set_axis_label_text(r'Uncertainty in $\\alpha$')\n",
    "fig.colorbar.set_axis_label_font(size=18, weight='medium', \n",
    "                                 stretch='normal', family='serif', \n",
    "                                 style='normal', variant='normal')\n",
    "\n",
    "# Set the font properties for the colorbar tick labels\n",
    "fig.colorbar.set_font(size=18, weight='medium', \n",
    "                      stretch='normal', family='serif', \n",
    "                      style='normal', variant='normal')\n",
    "\n",
    "fig.colorbar.set_location('top')\n",
    "fig.axis_labels.set_font(**font)\n",
    "fig.axis_labels.set_ypad(-0.4)\n",
    "fig.axis_labels.set_xtext(r'R.A. (J2000)')\n",
    "fig.axis_labels.set_ytext(r'Dec. (J2000)')\n",
    "fig.add_beam()\n",
    "fig.beam.set_color('w')\n",
    "fig.beam.set_edgecolor('w')\n",
    "fig.frame.set_color('k')\n",
    "fig.ticks.set_color('k')\n",
    "fig.tick_labels.set_font(**font)\n",
    "#plt.show()\n",
    "plt.savefig(folder+'/Spectral_map_error_'+fov+'.pdf', bbox_inches='tight')\n",
    "\n"
   ]
  },
  {
   "cell_type": "code",
   "execution_count": null,
   "metadata": {},
   "outputs": [],
   "source": []
  }
 ],
 "metadata": {
  "kernelspec": {
   "display_name": "Python 3",
   "language": "python",
   "name": "python3"
  },
  "language_info": {
   "codemirror_mode": {
    "name": "ipython",
    "version": 3
   },
   "file_extension": ".py",
   "mimetype": "text/x-python",
   "name": "python",
   "nbconvert_exporter": "python",
   "pygments_lexer": "ipython3",
   "version": "3.6.13"
  }
 },
 "nbformat": 4,
 "nbformat_minor": 4
}
