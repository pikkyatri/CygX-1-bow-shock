{
 "cells": [
  {
   "cell_type": "markdown",
   "id": "02d0ba08",
   "metadata": {},
   "source": [
    "A bow shock has been detected near Cyg X-1 in two frequency bands using the MeerKAT. It appears that the jets from CygX-1 have plunged into the higher density ISM and created a bow shock, a semi-circular region seen on only one side of CygX-1. The jets from the black hole X-ray binary create a shock front, which creates an overpressured lobe. The continous pumping of gas into this lobe results in the sideways expansion of the lobe. In order to determine the energy transported to the ISM, the first step is to find out the density of the ISM near Cyg X-1. So the steps are as follows-\n",
    "1) Find the electron density and temperature of the gas based on the comparison of radio vs Halpha surface brightness\n",
    "\n",
    "    a) This would have been the most ideal case, but because the Halpha maps are contaminated heavily by the foreground stars, the Halpha flux and emitting area estimations are not solid.\n",
    "    \n",
    "    b) Instead, I will plot the curve of the relation between temperature and electron density, based off of the measured flux and volume of the bow shock from the MeerKAT image.\n",
    "\n",
    "2) We will then use the temperature and electron density ranges to estimate the velocity of the bow shock. I will use the MC simulations here to ensure that the priors on the temperature and electron density are well accounted for in these estimations.\n",
    "\n",
    "3) Using the velocity and the characteristic length of the jet, we can find the age of the jets.\n",
    "\n",
    "4) The age will lead to the energy transport rate."
   ]
  },
  {
   "cell_type": "code",
   "execution_count": 5,
   "id": "fe8ac95e",
   "metadata": {},
   "outputs": [
    {
     "name": "stdout",
     "output_type": "stream",
     "text": [
      "Running on:\n",
      "Python version 3.6\n",
      "\tAstropy\t\t4.0.2\n",
      "\tMatplotlib\t3.3.4\n",
      "\tNumpy\t\t1.19.5\n",
      "\tScipy\t\t1.5.3\n",
      "\tSeaborn\t\t0.11.2\n",
      "\tPandas\t\t1.1.5\n",
      "\tJoblib\t\t0.13.2\n"
     ]
    }
   ],
   "source": [
    "import astropy\n",
    "from astropy import units as u\n",
    "from astropy.units import cds\n",
    "import matplotlib.pyplot as plt\n",
    "import matplotlib as mpl\n",
    "import matplotlib.font_manager as font_manager\n",
    "import matplotlib.gridspec as gridspec\n",
    "from matplotlib import rc\n",
    "from matplotlib import colors\n",
    "import numpy as np\n",
    "import numpy.ma as ma\n",
    "import math\n",
    "from scipy import interpolate\n",
    "from scipy import optimize\n",
    "from scipy.integrate import quad\n",
    "from scipy.stats import rv_histogram\n",
    "\n",
    "from scipy.stats import gaussian_kde,rv_continuous\n",
    "from scipy.interpolate import interp1d\n",
    "\n",
    "import scipy.special\n",
    "import seaborn as sns\n",
    "import pandas as pd\n",
    "\n",
    "import joblib\n",
    "from joblib import Parallel, delayed\n",
    "import multiprocessing\n",
    "\n",
    "import os\n",
    "\n",
    "\n",
    "# Package versions:\n",
    "print('Running on:')\n",
    "print('Python version 3.6')\n",
    "print(f'\\tAstropy\\t\\t{astropy.__version__}')\n",
    "print(f'\\tMatplotlib\\t{plt.matplotlib.__version__}')\n",
    "print(f'\\tNumpy\\t\\t{np.__version__}')\n",
    "print(f'\\tScipy\\t\\t{scipy.__version__}')\n",
    "print(f'\\tSeaborn\\t\\t{sns.__version__}')\n",
    "print(f'\\tPandas\\t\\t{pd.__version__}')\n",
    "print(f'\\tJoblib\\t\\t{joblib.__version__}')\n"
   ]
  },
  {
   "cell_type": "code",
   "execution_count": 2,
   "id": "bfa075d6",
   "metadata": {},
   "outputs": [],
   "source": [
    "# Set default figure size for all plots\n",
    "plt.rcParams['figure.figsize'] = [12, 8]  # Width, Height in inches\n",
    "\n",
    "#python3.6\n",
    "rc('text', usetex=True)\n",
    "font = {'family' : 'serif','size'   : 18}\n",
    "rc('font', **font)"
   ]
  },
  {
   "cell_type": "code",
   "execution_count": 3,
   "id": "6165ec95",
   "metadata": {},
   "outputs": [],
   "source": [
    "#New measured quantities in this work in L-band\n",
    "F_total_L = 0.04693 #Integrated Bow shock flux in Jy\n",
    "#F_total_L = 1.5e-4 #Integrated Bow shock flux in Jy if the bowshock was not deteted (sigma level)\n",
    "F_L = 110e-6         #Mean Bow shock flux density in Jy/beam \n",
    "F_err_L = 1.5e-4 #rms from bowshock region\n",
    "DRmin_L = 1.45           #Ring thickness, arcmin \n",
    "DRmin_err_L = 0.17\n",
    "theam_L = 7.3      #Lobe diameter in arcmin (noted between the inner edges of the lobe)\n",
    "disamin_L = 10.8 #angular seperation between Cyg X-1 and the leading edge of the bowshock in arcmin\n",
    "disamin_err_L = 0.2 #(beam size is taken as the error)\n",
    "proj_shock_L = 97771.6 #projected area of the bowshock in arcsec2 (used ds9 for this)\n",
    "#New measured quantities in this work in S-band\n",
    "F_total_S = 0.05927 #Integrated Bow shock flux in Jy\n",
    "F_S = 38e-6         #Mean Bow shock flux density in Jy/beam \n",
    "F_err_S = 4.8e-5 #rms from bowshock region\n",
    "DRmin_S = 1.39           #Ring thickness, arcmin \n",
    "DRmin_err_S = 0.18\n",
    "theam_S = 7      #Lobe diameter in arcmin (noted between the inner edges of the lobe)\n",
    "disamin_S = 10.5 #angular seperation between Cyg X-1 and the leading edge of the bowshock in arcmin\n",
    "disamin_err_S = 0.12 #(beam size is taken as the error)\n",
    "proj_shock_S = 95688.6 #projected area of the bowshock in arcsec2 (used ds9 for this)\n",
    "#Literature Source specific quantities \n",
    "d = 2.2            #distance to Cyg X-1 in kpc, Miller-Jones et al. 2021\n",
    "d_err = 0.18        #error in distance measured \n",
    "incl = 27.51        #inclination angle, Miller-Jones et al. 2021\n",
    "incl_err = 0.18     #error inclination angle, Miller-Jones et al. 2021\n",
    "o_a = 30             #opening angle\n",
    "o_a_err = 0         #opening angle error"
   ]
  },
  {
   "cell_type": "code",
   "execution_count": 4,
   "id": "48f4d656",
   "metadata": {},
   "outputs": [],
   "source": [
    "#Constants\n",
    "\n",
    "pc = 3.086E+18       # 1 pc, cm \n",
    "mh = 1.6735575E-24   # Hydrogen mass, g \n",
    "me = 9.1093837E-28   # Electron mass, g \n",
    "eV = 1.602176634E-12 # ElectronVolt, erg\n",
    "Jy = 1.0E-23         # 1 Jansky (erg/s/cm2/Hz), cgs\n",
    "kb = 1.380649E-16;   # K boltzman, cgs\n",
    "h =  6.6261E-27;     # Plank constant, cgs \n",
    "c = 3.0e10           # Speed of light, cgs \n",
    "Na = 6.022E+23       # Avogadro's number\n",
    "Z=1                  # Hydrogen atomic number\n",
    "e = 4.8e-10          #electric charge cm3/2 g1/2 s-1\n",
    "x=1                  #ionisation fraction\n",
    "C_radio = 6.8*1e-38\n",
    "Gammac = 5/3                            # Adiabatic index of the material in the cavity, -- ASSUMED \n",
    "Gammax = 5/3                            # Adiabatic index of the material in the external medium, -- ASSUMED \n",
    "Gammaj = 5/3                            # Adiabatic index of the material in the jet, -- ASSUMED \n",
    "beta = 0                                # density profile index (beta = 0 for a uniform density medium), -- ASSUMED \n",
    "\n",
    "# Observation-specific quantities L-band\n",
    "nu_L = 1.2839E+9;         # Observing frequency (L-band, MeerKAT, slightly lower than for Cyg X-1, Westerbork)\n",
    "bmaj_L = 14.26            # Beam major axis, arcsec\n",
    "bmin_L = 14.26            # Beam minor axis, arcsec\n",
    "\n",
    "# Observation-specific quantities S-band\n",
    "nu_S = 2.624E+9;         # Observing frequency (L-band, MeerKAT, slightly lower than for Cyg X-1, Westerbork)\n",
    "bmaj_S = 7.009            # Beam major axis, arcsec\n",
    "bmin_S = 7.009            # Beam minor axis, arcsec"
   ]
  },
  {
   "cell_type": "markdown",
   "id": "18dd06cc",
   "metadata": {},
   "source": [
    "## Conversion of the newly measured source specific quantities L-band"
   ]
  },
  {
   "cell_type": "code",
   "execution_count": 5,
   "id": "2c3e9766",
   "metadata": {},
   "outputs": [
    {
     "name": "stdout",
     "output_type": "stream",
     "text": [
      "Bow shock thickness in cm - 2.835e+18\n",
      "Diameter of the bowshock in cm - 1.427e+19\n",
      "Seperation between Cyg X-1 and the bowshock in cm (de-projected) - 4.572e+19\n",
      "Bow shock thickness in pc - 0.919\n",
      "Diameter of the bowshock in pc - 4.625\n",
      "Seperation between Cyg X-1 and the bowshock in pc (projected) - 6.843\n",
      "Bow shock Volume in pc3 - 1.002e+01\n",
      "Bow shock Area in pc2 - 1.090e+01\n"
     ]
    }
   ],
   "source": [
    "#various aspects of the ring thickness\n",
    "DR_L = DRmin_L*60      #Ring thickness, arcsec\n",
    "DRpc_L = d*1e3*4.8*1e-6*DR_L #Ring thickness in pc (have to convert d to pc from kpc too)\n",
    "DRcm_L = DRpc_L*pc    #Ring thickness in cm \n",
    "\n",
    "DR_err_L = DRmin_err_L*60\n",
    "DRpc_err_L = d*1e3*4.8*1e-6*DR_err_L #Ring thickness in pc (have to convert d to pc from kpc too)\n",
    "DRcm_err_L = DRpc_err_L*pc    #Ring thickness in cm \n",
    "\n",
    "#various aspects of the area of of the bowshock\n",
    "proj_shock_pc_L = proj_shock_L*(d*1e3*4.8*1e-6)**2 #convert area from arcsec to pc\n",
    "proj_volume_pc_L = DRpc_L*proj_shock_pc_L #convert the pc area to pc volume\n",
    "proj_vol_cm_L = proj_volume_pc_L*((pc)**3) #convert the pc volume to cm3 volume\n",
    "\n",
    "#Various aspects of the lobe diameter\n",
    "lobesize_as_L = theam_L*60 #lobe diameter in arcseconds\n",
    "lobesizepc_L = lobesize_as_L*d*1e3*4.8*1e-6    #lobe diameter in pc\n",
    "lobesizecm_L = lobesizepc_L*pc      #lobe diameter in cm\n",
    "\n",
    "#Various aspects of the angular seperation between the target and the leading edge of the bowshock\n",
    "disasec_L = disamin_L*60 #lobe target seperation in arcsec (projected)\n",
    "dispc_L = disasec_L*d*1e3*4.8*1e-6  #lobe target separation in pc (projected)\n",
    "discmP_L = dispc_L*pc #lobe target sepeartion in cm (projected)\n",
    "discm_deP_L = discmP_L/math.sin(incl*math.pi/180) #lobe target de-projected seperation to account for the inclination angle\n",
    "\n",
    "#Printing the estimated values\n",
    "print('Bow shock thickness in cm -','%.3e'%DRcm_L)\n",
    "print('Diameter of the bowshock in cm -', '%.3e'%lobesizecm_L)\n",
    "print('Seperation between Cyg X-1 and the bowshock in cm (de-projected) -', '%.3e'%discm_deP_L) #Lj\n",
    "print('Bow shock thickness in pc -','%.3f'%DRpc_L)\n",
    "print('Diameter of the bowshock in pc -', '%.3f'%lobesizepc_L)\n",
    "print('Seperation between Cyg X-1 and the bowshock in pc (projected) -', '%.3f'%dispc_L) #Lj\n",
    "print('Bow shock Volume in pc3 -','%.3e'%proj_volume_pc_L)\n",
    "print('Bow shock Area in pc2 -','%.3e'%proj_shock_pc_L)"
   ]
  },
  {
   "cell_type": "markdown",
   "id": "c2d925bb",
   "metadata": {},
   "source": [
    "## Conversion of the newly measured source specific quantities S-band"
   ]
  },
  {
   "cell_type": "code",
   "execution_count": 6,
   "id": "b185cd8d",
   "metadata": {},
   "outputs": [
    {
     "name": "stdout",
     "output_type": "stream",
     "text": [
      "Bow shock thickness in cm - 2.718e+18\n",
      "Diameter of the bowshock in cm - 1.369e+19\n",
      "Seperation between Cyg X-1 and the bowshock in cm (de-projected) - 4.445e+19\n",
      "Bow shock thickness in pc - 0.881\n",
      "Diameter of the bowshock in pc - 4.435\n",
      "Seperation between Cyg X-1 and the bowshock in pc (projected) - 6.653\n",
      "Bow shock Volume in pc3 - 9.398e+00\n",
      "Bow shock Area in pc2 - 1.067e+01\n"
     ]
    }
   ],
   "source": [
    "DR_S = DRmin_S*60      #Ring thickness, arcsec\n",
    "DRpc_S = d*1e3*4.8*1e-6*DR_S #Ring thickness in pc (have to convert d to pc from kpc too)\n",
    "DRcm_S = DRpc_S*pc    #Ring thickness in cm \n",
    "\n",
    "DR_err_S = DRmin_err_S*60\n",
    "DRpc_err_S = d*1e3*4.8*1e-6*DR_err_S #Ring thickness in pc (have to convert d to pc from kpc too)\n",
    "DRcm_err_S = DRpc_err_S*pc    #Ring thickness in cm \n",
    "\n",
    "#various aspects of the area of of the bowshock\n",
    "proj_shock_pc_S = proj_shock_S*(d*1e3*4.8*1e-6)**2 #convert area from arcsec to pc\n",
    "proj_volume_pc_S = DRpc_S*proj_shock_pc_S #convert the pc area to pc volume\n",
    "proj_vol_cm_S = proj_volume_pc_S*((pc)**3) #convert the pc volume to cm3 volume\n",
    "\n",
    "#Various aspects of the lobe diameter\n",
    "lobesize_as_S = theam_S*60 #lobe diameter in arcseconds\n",
    "lobesizepc_S = lobesize_as_S*d*1e3*4.8*1e-6    #lobe diameter in pc\n",
    "lobesizecm_S = lobesizepc_S*pc      #lobe diameter in cm\n",
    "\n",
    "#Various aspects of the angular seperation between the target and the leading edge of the bowshock\n",
    "disasec_S = disamin_S*60 #lobe target seperation in arcsec (projected)\n",
    "dispc_S = disasec_S*d*1e3*4.8*1e-6  #lobe target separation in pc (projected)\n",
    "discmP_S = dispc_S*pc #lobe target sepeartion in cm (projected)\n",
    "discm_deP_S = discmP_S/math.sin(incl*math.pi/180) #lobe target de-projected seperation to account for the inclination angle\n",
    "\n",
    "#Printing the estimated values\n",
    "print('Bow shock thickness in cm -','%.3e'%DRcm_S)\n",
    "print('Diameter of the bowshock in cm -', '%.3e'%lobesizecm_S)\n",
    "print('Seperation between Cyg X-1 and the bowshock in cm (de-projected) -', '%.3e'%discm_deP_S) #Lj\n",
    "print('Bow shock thickness in pc -','%.3f'%DRpc_S)\n",
    "print('Diameter of the bowshock in pc -', '%.3f'%lobesizepc_S)\n",
    "print('Seperation between Cyg X-1 and the bowshock in pc (projected) -', '%.3f'%dispc_S) #Lj\n",
    "print('Bow shock Volume in pc3 -','%.3e'%proj_volume_pc_S)\n",
    "print('Bow shock Area in pc2 -','%.3e'%proj_shock_pc_S)"
   ]
  },
  {
   "cell_type": "markdown",
   "id": "63303689",
   "metadata": {},
   "source": [
    "### Finding the electron density and temperature"
   ]
  },
  {
   "cell_type": "markdown",
   "id": "8d93e867",
   "metadata": {},
   "source": [
    "The radio emissivity as given by (Longair 2011): The monochromatic emissivity $\\epsilon_\\nu$ of ionised hydrogen due to thermal bremsstrahlung is given by (Longair 1994). \n",
    "\n",
    " $$\\epsilon_\\nu = \\frac{L_\\nu}{V} = 6.8\\times 10^{-38} g(\\nu, T) \\frac{n_e^2}{\\sqrt{T}} \\exp{(\\frac{h\\nu}{k_b T})} ~~ erg~s^{-1}~cm^{-3}~Hz^{-1}$$\n",
    "\n",
    "where $V$ is the volume of the emitting region. The way we estimate this is to find the area of the selected region in arcsec2 and multiply it by the thickness of the ring, assuming it to be as deep as it is wide. \n",
    "\n",
    "$$\n",
    "L_\\nu = F_\\nu \\times 4\\pi \\times d^2\n",
    "$$\n",
    ", which is the monochromatic luminosity. In the case of MeerKAT, we use monochromatic flux density ($F_\\nu$) to present the flux density of a flat spectrum source at the central frequency of the observing band, and under the solid assumption that the flux does not change within the MeerKAT bandwidth. Another thing to note is that this is the integrate flux of the bowshock, as we are using the total volume of the emitting region to find the emissivity.\n",
    "\n",
    "From the Bremsstrahlung emissivity we can derive the electron density, and from there the total number of particles based on the expected ionisation fraction $x \\sim 1$ of a hydrogen gas emitting at a minimum temperature of T $\\sim 10{^4}$ K. At these temperatures almost all hydrogen will be ionised, so the ionisation fraction is 1.\n",
    "\n",
    "$$n_e = \\sqrt\\frac{\\epsilon_\\nu}{g(\\nu, T) \\sqrt{T} C_{radio}}$$\n",
    "\n",
    "where,\n",
    "\n",
    "$$ \n",
    "C_{radio} = 6.8\\times 10^{-38} erg~s^{-1}~cm^{-3}~Hz^{-1} \n",
    "$$,\n",
    "\n",
    "$$\n",
    "g(\\nu, T) \\approx \\frac{\\sqrt{3}}{2 \\pi}\\left[\\ln \\left(\\frac{128 \\epsilon_0^2 k^3 T^3}{m_e e^4 \\nu^2 Z^2}\\right)-\\gamma^2\\right]\n",
    "$$"
   ]
  },
  {
   "cell_type": "markdown",
   "id": "9b92914e",
   "metadata": {},
   "source": [
    "### To calculate the electron density using MC"
   ]
  },
  {
   "cell_type": "code",
   "execution_count": 7,
   "id": "59add093",
   "metadata": {},
   "outputs": [],
   "source": [
    "def gaunt(nu, T, z):\n",
    "    # The Gaunt factor  \n",
    "    F1 = 128.*(1**2)*(kb**3)*(T**3)\n",
    "    F2 = me * (e**4)*(nu**2)*(z**2)\n",
    "    G = (3**0.5 / (2.*np.pi)) * (np.log(F1/F2) - 0.5772156649**2)\n",
    "    return G"
   ]
  },
  {
   "cell_type": "code",
   "execution_count": 8,
   "id": "f698a52b",
   "metadata": {},
   "outputs": [],
   "source": [
    "%matplotlib notebook\n",
    "n_iter = 10000\n",
    "n_cores = 16         # Number of parallel threads"
   ]
  },
  {
   "cell_type": "code",
   "execution_count": 9,
   "id": "9404d1ba",
   "metadata": {},
   "outputs": [],
   "source": [
    "class custom_dist_analytical(rv_continuous):\n",
    "    def _pdf(self, xx):\n",
    "        return testf(xx)\n",
    "\n",
    "np.random.seed(124)"
   ]
  },
  {
   "cell_type": "code",
   "execution_count": 10,
   "id": "d1c76ea0",
   "metadata": {},
   "outputs": [],
   "source": [
    "def ne(d,F,DR,T_axis,nu,Z,proj_shock):\n",
    "    L14 = F*Jy*4*math.pi*(d*1e3*pc)**2 # Monochormatic ring luminosity in erg/sec/Hz\n",
    "    Vol = (DR*proj_shock*(d*1e3*4.8*1e-6*pc)**3)\n",
    "    kappa_nu = L14 / Vol\n",
    "    ne_squared = kappa_nu/(C_radio*(T_axis**-0.5) * gaunt(nu, T_axis, Z))\n",
    "    n_e = (ne_squared**0.5) # units: cm^-3\n",
    "    return n_e\n"
   ]
  },
  {
   "cell_type": "code",
   "execution_count": 11,
   "id": "4131bbc8",
   "metadata": {},
   "outputs": [],
   "source": [
    "# Creating distributions for source parameters that remain unchanged for both frequencies parameters:\n",
    "dist = np.random.normal(d,d_err, n_iter)\n",
    "T_axis = np.linspace(10**4,3*(10**6), n_iter, endpoint=True)\n",
    "T_axis_log = np.logspace(4,8,num=n_iter,base=10,endpoint=True)"
   ]
  },
  {
   "cell_type": "code",
   "execution_count": 12,
   "id": "85c78742",
   "metadata": {},
   "outputs": [],
   "source": [
    "#Creating distributions for source parameters that change for each frequency\n",
    "Flux_L = np.random.normal(F_total_L,F_err_L,n_iter)\n",
    "Ring_thic_L = np.random.normal(DR_L,DR_err_L,n_iter) #ring thickness in arcsec\n",
    "Flux_S = np.random.normal(F_total_S,F_err_S,n_iter)\n",
    "Ring_thic_S = np.random.normal(DR_S,DR_err_S,n_iter) #ring thickness in arcsec"
   ]
  },
  {
   "cell_type": "code",
   "execution_count": 13,
   "id": "57943024",
   "metadata": {},
   "outputs": [
    {
     "name": "stderr",
     "output_type": "stream",
     "text": [
      "[Parallel(n_jobs=16)]: Using backend LokyBackend with 16 concurrent workers.\n",
      "[Parallel(n_jobs=16)]: Done  40 tasks      | elapsed:    6.4s\n",
      "[Parallel(n_jobs=16)]: Done 247 tasks      | elapsed:    6.9s\n",
      "[Parallel(n_jobs=16)]: Done 10000 out of 10000 | elapsed:    7.8s finished\n",
      "[Parallel(n_jobs=16)]: Using backend LokyBackend with 16 concurrent workers.\n",
      "[Parallel(n_jobs=16)]: Done 208 tasks      | elapsed:    0.1s\n",
      "[Parallel(n_jobs=16)]: Done 10000 out of 10000 | elapsed:    0.8s finished\n"
     ]
    }
   ],
   "source": [
    "elec_density_L = Parallel(n_jobs=n_cores,verbose=5)(delayed(ne)(dist[i],Flux_L[i],Ring_thic_L[i],T_axis_log[i],nu_L,Z,proj_shock_L) for i in range(n_iter))\n",
    "elec_density_S = Parallel(n_jobs=n_cores,verbose=5)(delayed(ne)(dist[i],Flux_S[i],Ring_thic_S[i],T_axis_log[i],nu_S,Z,proj_shock_S) for i in range(n_iter))"
   ]
  },
  {
   "cell_type": "code",
   "execution_count": 14,
   "id": "7c1dfcd5",
   "metadata": {},
   "outputs": [],
   "source": [
    "ner_L_T = ne(d,F_total_L,DR_L,T_axis_log,nu_L,Z,proj_shock_L) #only with temperature variation\n",
    "ner_S_T = ne(d,F_total_S,DR_S,T_axis_log,nu_S,Z,proj_shock_S) #only with temperature variation"
   ]
  },
  {
   "cell_type": "code",
   "execution_count": 15,
   "id": "93f55532",
   "metadata": {},
   "outputs": [
    {
     "data": {
      "image/png": "[encoded data removed]",
      "text/plain": [
       "<Figure size 432x288 with 1 Axes>"
      ]
     },
     "metadata": {
      "needs_background": "light"
     },
     "output_type": "display_data"
    }
   ],
   "source": [
    "%matplotlib inline\n",
    "#To plot the variation of ne with T_axis\n",
    "fig = plt.figure()\n",
    "ax = fig.add_subplot(111)\n",
    "ax.tick_params(axis='both', which='both', labelsize=16)\n",
    "ax.yaxis.set_ticks_position('both')\n",
    "ax.xaxis.set_ticks_position('both')\n",
    "ax.get_yaxis().set_tick_params(direction='in', which='both')\n",
    "ax.get_xaxis().set_tick_params(direction='in', which='both')\n",
    "ax.set_xscale('log')\n",
    "ax.set_yscale('log')\n",
    "ax.set_xlabel(r'Temperature [K]',fontsize=16)\n",
    "ax.set_ylabel(r'$n_e(T)$ using radio maps [cm$^{-3}$]',fontsize=16)\n",
    "plt.tight_layout()\n",
    "plt.hlines([16,61],1e4,1e8,linestyles=':',colors='black')\n",
    "plt.scatter(T_axis_log,elec_density_L,s=10,color='purple',label='L-band')\n",
    "plt.scatter(T_axis_log,ner_L_T,s=1,color='purple')\n",
    "plt.scatter(T_axis_log,elec_density_S,s=10,color='blue',label='S-band')\n",
    "plt.scatter(T_axis_log,ner_S_T,s=1,color='blue')\n",
    "plt.legend()\n",
    "plt.show()\n",
    "# plt.savefig('./ihavetocheckthis.pdf')"
   ]
  },
  {
   "cell_type": "code",
   "execution_count": 16,
   "id": "c53d9170",
   "metadata": {},
   "outputs": [
    {
     "name": "stdout",
     "output_type": "stream",
     "text": [
      "34.23901205823127 21.06840927622778 56.109299517292534\n"
     ]
    },
    {
     "data": {
      "image/png": "[encoded data removed]",
      "text/plain": [
       "<Figure size 432x288 with 1 Axes>"
      ]
     },
     "metadata": {
      "needs_background": "light"
     },
     "output_type": "display_data"
    }
   ],
   "source": [
    "#Plotting histogram of electron density using L-band observations\n",
    "median_L = np.nanpercentile(elec_density_L,50)\n",
    "low_lim_L = np.nanpercentile(elec_density_L,25)\n",
    "high_lim_L = np.nanpercentile(elec_density_L,75)\n",
    "print(median_L,low_lim_L,high_lim_L)\n",
    "histplot = plt.hist(elec_density_L,bins=50,color='orange',edgecolor='w',density=True,alpha=0.7)\n",
    "plt.vlines([low_lim_L,high_lim_L],0,max(histplot[0])*1.1,linestyles=':',colors='midnightblue')\n",
    "plt.vlines(median_L,0,max(histplot[0])*1.1,linestyles=':',colors='midnightblue')\n",
    "plt.ylim(0,max(histplot[0])*1.1)\n",
    "plt.ylabel('Probability density', fontsize=12)\n",
    "plt.xlabel(r'$n_e(T)$ [cm$^{-3}$]', fontsize=12)\n",
    "#plt.xlim(0,400)\n",
    "#plt.title(str(name))\n",
    "plt.minorticks_on()\n",
    "plt.tick_params(axis='both', which='major', labelsize=12)\n",
    "plt.tick_params(axis='both', which='major', length=9)\n",
    "plt.tick_params(axis='both', which='minor', length=4.5)\n",
    "plt.tick_params(axis='both', which='both',direction='in',right=True,top=True)\n",
    "plt.show()"
   ]
  },
  {
   "cell_type": "code",
   "execution_count": 17,
   "id": "bd0944e8",
   "metadata": {},
   "outputs": [
    {
     "name": "stdout",
     "output_type": "stream",
     "text": [
      "40.436810272490334 24.772696819160018 66.7154615116302\n"
     ]
    },
    {
     "data": {
      "image/png": "[encoded data removed]",
      "text/plain": [
       "<Figure size 432x288 with 1 Axes>"
      ]
     },
     "metadata": {
      "needs_background": "light"
     },
     "output_type": "display_data"
    }
   ],
   "source": [
    "#Plotting histogram of electron density using S-band observations\n",
    "\n",
    "median_S = np.nanpercentile(elec_density_S,50)\n",
    "low_lim_S = np.nanpercentile(elec_density_S,25)\n",
    "high_lim_S = np.nanpercentile(elec_density_S,75)\n",
    "print(median_S,low_lim_S,high_lim_S)\n",
    "histplot = plt.hist(elec_density_S,bins=50,color='orange',edgecolor='w',density=True,alpha=0.7)\n",
    "plt.vlines([low_lim_S,high_lim_S],0,max(histplot[0])*1.1,linestyles=':',colors='midnightblue')\n",
    "plt.vlines(median_S,0,max(histplot[0])*1.1,linestyles=':',colors='midnightblue')\n",
    "plt.ylim(0,max(histplot[0])*1.1)\n",
    "plt.ylabel('Probability density', fontsize=12)\n",
    "plt.xlabel(r'$n_e(T)$ [cm$^{-3}$]', fontsize=12)\n",
    "plt.minorticks_on()\n",
    "plt.tick_params(axis='both', which='major', labelsize=12)\n",
    "plt.tick_params(axis='both', which='major', length=9)\n",
    "plt.tick_params(axis='both', which='minor', length=4.5)\n",
    "plt.tick_params(axis='both', which='both',direction='in',right=True,top=True)\n",
    "plt.show()"
   ]
  },
  {
   "cell_type": "markdown",
   "id": "c2f143d3",
   "metadata": {},
   "source": [
    "## Calculating electron density with H alpha observations"
   ]
  },
  {
   "cell_type": "markdown",
   "id": "58c014d2",
   "metadata": {},
   "source": [
    "We can find a similar relation by considering the H $\\alpha$ surface brightness. For this, we can use the equation in Gvaramadze et al. (2018):\n",
    "\n",
    "$$j_{\\rm H\\alpha} = 2.85\\times10^{-33}\\text{erg s}^{-1}\\text{ cm}^{-3}\\text{ arcsec}^{-2} \\left( \\frac{T}{\\text{K}} \\right)^{-0.9}\\left(\\frac{n_e}{\\text{cm}^{-3}}\\right)^2$$\n",
    "\n",
    "The temperature and $n_e$ depend on position, but in our analysis, we have assumed they are uniform with depth. So then, we find that the surface brightness is given by:\n",
    "\n",
    "$$S_{\\rm H\\alpha} = \\int j_{\\rm H\\alpha}(x) dx = j_{\\rm H\\alpha} \\Delta$$\n",
    "\n",
    "Thus:\n",
    "\n",
    "$$n_e(T) = \\sqrt{S_{\\rm H\\alpha}\\frac{(T/\\text{K})^{0.9}}{C_{\\rm H\\alpha}\\Delta}} \\text{ cm}^{-3}$$ \n",
    "\n",
    "where $C_{\\rm H\\alpha} = 2.85\\times10^{-33}\\text{erg s}^{-1}\\text{ cm}^{-3}\\text{ arcsec}^{-2}$ and $\\Delta$ is the width of the bowshock in cm.\n",
    "\n"
   ]
  },
  {
   "cell_type": "code",
   "execution_count": 18,
   "id": "075dc21c",
   "metadata": {},
   "outputs": [],
   "source": [
    "Sh = 1.4e-17 * u.erg * ((u.second)**-1)*((u.cm)**-2)*((u.arcsecond)**-2) #obtained from Russell et al 2007 Table 2 and has the units ergs s-1 cm-2 arcsec-2\n",
    "Sh_err = 1.4e-18 #assuming a 10% error margin on Sh\n",
    "Ch = 2.85e-33* u.erg * ((u.second)**-1)*((u.cm)**-3)*((u.arcsecond)**-2) #Units of erg s-1 cm-3 arcsec-2\n",
    "Halpha_thic_min = 6*u.arcsecond #min thickness from Russell 2007\n",
    "Halpha_thic_max = 40*u.arcsecond #max thickness from Russell 2007\n",
    "\n",
    "D = 2.2e3 *u.parsec\n",
    "Halpha_thic_min_arcsec = Halpha_thic_min.to(u.arcsec)\n",
    "arcsec_to_size = (1 * u.arcsec).to(u.radian).value * D # the conversion between arcsecond to size at the distance of Cyg X-1\n",
    "Halpha_thic_min_parsec = (Halpha_thic_min.value*arcsec_to_size)\n",
    "Halpha_thic_min_cm = Halpha_thic_min_parsec.to(u.cm)\n",
    "\n",
    "Halpha_thic_max_arcsec = Halpha_thic_max.to(u.arcsec)\n",
    "Halpha_thic_max_parsec = (Halpha_thic_max.value*arcsec_to_size)\n",
    "Halpha_thic_max_cm = Halpha_thic_max_parsec.to(u.cm)\n",
    "\n",
    "Ring_thic_tab2 = 1.6e18*u.cm #russell 2007 average thickness in Table 2 to be used for calculations here\n",
    "Ring_thic_tab2_err = 1.6e17*u.cm #assuming 10% error bar\n",
    "# Source parameters, :\n",
    "Halpha_Flux = np.random.normal(Sh.value,Sh_err,n_iter)\n",
    "#Ring_thic_cm = np.random.uniform(Halpha_thic_min_cm.value,Halpha_thic_max_cm.value,n_iter)\n",
    "Ring_thic_cm = np.random.normal(Ring_thic_tab2.value,Ring_thic_tab2_err.value,n_iter)\n",
    "def ha_ne(S,T,Ring):\n",
    "    Ha_ne = ((S*(T**0.9))/(Ch.value*Ring))**0.5\n",
    "    return(Ha_ne)"
   ]
  },
  {
   "cell_type": "code",
   "execution_count": 19,
   "id": "f1fae95a",
   "metadata": {},
   "outputs": [
    {
     "name": "stderr",
     "output_type": "stream",
     "text": [
      "[Parallel(n_jobs=16)]: Using backend LokyBackend with 16 concurrent workers.\n",
      "[Parallel(n_jobs=16)]: Done  41 tasks      | elapsed:    0.4s\n",
      "[Parallel(n_jobs=16)]: Done 2660 tasks      | elapsed:    1.0s\n",
      "[Parallel(n_jobs=16)]: Done 10000 out of 10000 | elapsed:    1.0s finished\n"
     ]
    }
   ],
   "source": [
    "elec_density_Ha = Parallel(n_jobs=n_cores,verbose=5)(delayed(ha_ne)(Halpha_Flux[i],T_axis_log[i],Ring_thic_cm[i]) for i in range(n_iter))"
   ]
  },
  {
   "cell_type": "code",
   "execution_count": 20,
   "id": "30802b08",
   "metadata": {},
   "outputs": [],
   "source": [
    "neh_T = ha_ne(Sh.value,T_axis_log,Ring_thic_tab2.value) #only with temperature variation"
   ]
  },
  {
   "cell_type": "code",
   "execution_count": 21,
   "id": "40480266",
   "metadata": {
    "scrolled": false
   },
   "outputs": [
    {
     "data": {
      "image/png": "[encoded data removed]",
      "text/plain": [
       "<Figure size 432x288 with 1 Axes>"
      ]
     },
     "metadata": {
      "needs_background": "light"
     },
     "output_type": "display_data"
    }
   ],
   "source": [
    "#To plot the variation of Halpha_ne with T_axis\n",
    "fig = plt.figure()\n",
    "ax = fig.add_subplot(111)\n",
    "ax.yaxis.set_ticks_position('both')\n",
    "ax.xaxis.set_ticks_position('both')\n",
    "ax.get_yaxis().set_tick_params(direction='in', which='both')\n",
    "ax.get_xaxis().set_tick_params(direction='in', which='both')\n",
    "ax.set_xscale('log')\n",
    "ax.set_yscale('log')\n",
    "ax.set_xlabel(r'Temperature [K]', fontsize=10)\n",
    "ax.set_ylabel(r'$n_e(T)$ using Halpha maps [cm$^{-3}$]', fontsize=10)\n",
    "plt.tight_layout()\n",
    "plt.hlines([16,61],1e4,1e8,linestyles=':',colors='black')\n",
    "plt.scatter(T_axis_log,elec_density_Ha,s=10,color='hotpink',alpha=0.1)\n",
    "plt.scatter(T_axis_log,neh_T,s=1,color='hotpink')\n",
    "plt.show()"
   ]
  },
  {
   "cell_type": "code",
   "execution_count": 22,
   "id": "3850ff6b",
   "metadata": {},
   "outputs": [
    {
     "name": "stdout",
     "output_type": "stream",
     "text": [
      "27.93290578944705 9.863673878587662 78.03080137305608\n"
     ]
    },
    {
     "data": {
      "image/png": "[encoded data removed]",
      "text/plain": [
       "<Figure size 432x288 with 1 Axes>"
      ]
     },
     "metadata": {
      "needs_background": "light"
     },
     "output_type": "display_data"
    }
   ],
   "source": [
    "#Plotting histogram of electron density using Halpha observations\n",
    "median = np.nanpercentile(elec_density_Ha,50)\n",
    "low_lim = np.nanpercentile(elec_density_Ha,25)\n",
    "high_lim = np.nanpercentile(elec_density_Ha,75)\n",
    "print(median,low_lim,high_lim)\n",
    "histplot = plt.hist(elec_density_Ha,bins=50,color='orange',edgecolor='w',density=True,alpha=0.7)\n",
    "plt.vlines([low_lim,high_lim],0,max(histplot[0])*1.1,linestyles=':',colors='midnightblue')\n",
    "plt.vlines(median,0,max(histplot[0])*1.1,linestyles=':',colors='midnightblue')\n",
    "plt.ylim(0,max(histplot[0])*1.1)\n",
    "plt.ylabel('Probability density', fontsize=12)\n",
    "plt.xlabel(r'$n_e(T)$ [cm$^{-3}$]', fontsize=12)\n",
    "#plt.xlim(0,400)\n",
    "#plt.title(str(name))\n",
    "plt.minorticks_on()\n",
    "plt.tick_params(axis='both', which='major', labelsize=12)\n",
    "plt.tick_params(axis='both', which='major', length=9)\n",
    "plt.tick_params(axis='both', which='minor', length=4.5)\n",
    "plt.tick_params(axis='both', which='both',direction='in',right=True,top=True)\n",
    "plt.show()"
   ]
  },
  {
   "cell_type": "markdown",
   "id": "f787c3f8",
   "metadata": {},
   "source": [
    "## Making combined histograms for comparision"
   ]
  },
  {
   "cell_type": "code",
   "execution_count": 23,
   "id": "8195f565",
   "metadata": {},
   "outputs": [
    {
     "name": "stdout",
     "output_type": "stream",
     "text": [
      "34.23901205823127 14.347392483624013 84.74283341139373\n",
      "27.93290578944705 4.291331499850193 179.77080715887087\n"
     ]
    },
    {
     "data": {
      "image/png": "[encoded data removed]",
      "text/plain": [
       "<Figure size 432x288 with 1 Axes>"
      ]
     },
     "metadata": {
      "needs_background": "light"
     },
     "output_type": "display_data"
    }
   ],
   "source": [
    "_, bins, _ = plt.hist(elec_density_L, bins=80, range=[0, 300], density=True)\n",
    "\n",
    "median_1 = np.nanpercentile(elec_density_L,50)\n",
    "low_lim_1 = np.nanpercentile(elec_density_L,5)\n",
    "high_lim_1 = np.nanpercentile(elec_density_L,95)\n",
    "print(median_1,low_lim_1,high_lim_1)\n",
    "histplot_1 = plt.hist(elec_density_L,bins=bins,color='blue',edgecolor='w',density=True,alpha=0.7)\n",
    "plt.vlines([low_lim_1,high_lim_1],0,max(histplot_1[0])*1.1,linestyles=':',colors='midnightblue')\n",
    "plt.vlines(median_1,0,max(histplot_1[0])*1.1,linestyles=':',colors='midnightblue')\n",
    "\n",
    "median_2 = np.nanpercentile(elec_density_Ha,50)\n",
    "low_lim_2 = np.nanpercentile(elec_density_Ha,5)\n",
    "high_lim_2 = np.nanpercentile(elec_density_Ha,95)\n",
    "print(median_2,low_lim_2,high_lim_2)\n",
    "histplot_2 = plt.hist(elec_density_Ha,bins=bins,color='orange',edgecolor='w',density=True,alpha=0.7)\n",
    "plt.vlines([low_lim_2,high_lim_2],0,max(histplot_2[0])*1.1,linestyles=':',colors='red')\n",
    "plt.vlines(median,0,max(histplot_2[0])*1.1,linestyles=':',colors='red')\n",
    "#plt.ylim(0,max(histplot_2[0])*1.1)\n",
    "plt.ylabel('Probability density', fontsize=12)\n",
    "plt.xlabel(r'$n_e(T)$ [cm$^{-3}$]', fontsize=12)\n",
    "#plt.xlim(0,250)\n",
    "#plt.title('Distribution of electron number density using H alpha maps')\n",
    "plt.minorticks_on()\n",
    "plt.tick_params(axis='both', which='major', labelsize=12)\n",
    "plt.tick_params(axis='both', which='major', length=9)\n",
    "plt.tick_params(axis='both', which='minor', length=4.5)\n",
    "plt.tick_params(axis='both', which='both',direction='in',right=True,top=True)\n",
    "plt.show()"
   ]
  },
  {
   "cell_type": "code",
   "execution_count": 24,
   "id": "1fe0cfda",
   "metadata": {
    "scrolled": false
   },
   "outputs": [
    {
     "data": {
      "image/png": "[encoded data removed]",
      "text/plain": [
       "<Figure size 432x288 with 1 Axes>"
      ]
     },
     "metadata": {
      "needs_background": "light"
     },
     "output_type": "display_data"
    }
   ],
   "source": [
    "# Create histograms for both samples\n",
    "hist1, bins1 = np.histogram(elec_density_L, bins=bins, density=True)\n",
    "hist2, bins2 = np.histogram(elec_density_S, bins=bins, density=True)\n",
    "hist3, bins3 = np.histogram(elec_density_Ha, bins=bins, density=True)\n",
    "\n",
    "\n",
    "# Combine histograms\n",
    "combined_hist = hist1 + hist2 +hist3\n",
    "bin_centers = (bins1[:-1] + bins1[1:]) / 2\n",
    "\n",
    "# Plot the combined histogram\n",
    "plt.bar(bin_centers, combined_hist, width=bins1[1] - bins1[0], alpha=0.7)\n",
    "plt.xlabel(\"Value\")\n",
    "plt.ylabel(\"Probability\")\n",
    "plt.title(\"Combined Histogram from radio and Halpha maps\")\n",
    "plt.show()"
   ]
  },
  {
   "cell_type": "code",
   "execution_count": 25,
   "id": "161d0114",
   "metadata": {},
   "outputs": [
    {
     "data": {
      "image/png": "[encoded data removed]",
      "text/plain": [
       "<Figure size 432x288 with 1 Axes>"
      ]
     },
     "metadata": {
      "needs_background": "light"
     },
     "output_type": "display_data"
    }
   ],
   "source": [
    "# Create a scipy.stats distribution from the combined histogram\n",
    "hist_dist = rv_histogram((combined_hist, bins1))\n",
    "\n",
    "# Plot the probability distribution\n",
    "x = np.linspace(min(bins1), max(bins1), 50)\n",
    "plt.plot(x, hist_dist.pdf(x), label=\"Combined Distribution\")\n",
    "plt.xlabel(\"Value\")\n",
    "plt.ylabel(\"Probability Density\")\n",
    "plt.title(\"Probability Distribution of Combined Histograms\")\n",
    "plt.legend()\n",
    "plt.show()"
   ]
  },
  {
   "cell_type": "code",
   "execution_count": 26,
   "id": "4407c9b7",
   "metadata": {},
   "outputs": [
    {
     "name": "stdout",
     "output_type": "stream",
     "text": [
      "19.599707357859533 35.155538694992416 64.36324167872651\n"
     ]
    }
   ],
   "source": [
    "#median = hist_dist.median()\n",
    "# Calculate the 25th percentile\n",
    "percentile_25 = hist_dist.ppf(0.25)\n",
    "percentile_50 = hist_dist.ppf(0.50)\n",
    "# Calculate the 75th percentile\n",
    "percentile_75 = hist_dist.ppf(0.75)\n",
    "print(percentile_25,percentile_50,percentile_75)"
   ]
  },
  {
   "cell_type": "markdown",
   "id": "c259155f",
   "metadata": {},
   "source": [
    "## Finding overlap region between Halpha and radio ISM density"
   ]
  },
  {
   "cell_type": "code",
   "execution_count": 36,
   "id": "b8c0c6e9",
   "metadata": {},
   "outputs": [
    {
     "name": "stdout",
     "output_type": "stream",
     "text": [
      "Temperature range that satisfies all three distributions: 853086.5588540772 K to 14856523.41322157 K\n",
      "Electron density range that satisfies all three distributions: 28.876024406390382 cm^-3 to 78.93605400301996 cm^-3\n"
     ]
    },
    {
     "data": {
      "image/png": "[encoded data removed]",
      "text/plain": [
       "<Figure size 432x288 with 1 Axes>"
      ]
     },
     "metadata": {
      "needs_background": "light"
     },
     "output_type": "display_data"
    }
   ],
   "source": [
    "# Find overlapping electron densities\n",
    "\n",
    "ne_min = np.maximum(np.minimum(elec_density_L, elec_density_S), elec_density_Ha)\n",
    "ne_max = np.minimum(np.maximum(elec_density_L, elec_density_S), elec_density_Ha)\n",
    "\n",
    "# Identify temperature range that satisfies all three distributions\n",
    "overlap_indices = np.where(ne_min <= ne_max)\n",
    "T_overlap = T_axis_log[overlap_indices]\n",
    "ne_overlap_min = ne_min[overlap_indices]\n",
    "ne_overlap_max = ne_max[overlap_indices]\n",
    "\n",
    "# Plot the results\n",
    "#plt.figure(figsize=(12, 8))\n",
    "plt.scatter(T_axis_log, elec_density_L, label='L-band', color='#8e44ad', alpha=0.8,s=12) \n",
    "plt.scatter(T_axis_log, elec_density_S, label='S-band', color='#82ccdd', alpha=0.8,s=12)  \n",
    "plt.scatter(T_axis_log, elec_density_Ha, label='H-alpha', color='#bdc3c7', alpha=0.8,s=12) \n",
    "\n",
    "# Add vertical lines for the temperature range\n",
    "plt.axvline(x=T_overlap[0], color='black', linestyle='--')\n",
    "plt.axvline(x=T_overlap[-1], color='black', linestyle='--')\n",
    "\n",
    "# Add horizontal lines for the electron density range\n",
    "plt.axhline(y=ne_overlap_min.min(), color='black', linestyle='--')\n",
    "plt.axhline(y=ne_overlap_max.max(), color='black', linestyle='--')\n",
    "plt.xscale('log')\n",
    "plt.yscale('log')\n",
    "plt.legend(fontsize=10)\n",
    "plt.xticks(fontsize=16)\n",
    "plt.yticks(fontsize=16)\n",
    "plt.xlabel('Temperature [K]', fontsize=16)\n",
    "plt.ylabel(r'$n_e(T)$ [cm$^{-3}$]', fontsize=16)\n",
    "plt.show()\n",
    "\n",
    "# Print the temperature range that satisfies all three distributions\n",
    "print(f\"Temperature range that satisfies all three distributions: {T_overlap[0]} K to {T_overlap[-1]} K\")\n",
    "print(f\"Electron density range that satisfies all three distributions: {ne_overlap_min.min()} cm^-3 to {ne_overlap_max.max()} cm^-3\")\n",
    "\n",
    "#plt.savefig('./ne_neh.pdf',bbox_inches='tight')"
   ]
  },
  {
   "cell_type": "markdown",
   "id": "708b23f5",
   "metadata": {},
   "source": [
    "## Shock velocity measurement:"
   ]
  },
  {
   "cell_type": "markdown",
   "id": "c65adc57",
   "metadata": {},
   "source": [
    "Velocity of the bow shock can be estimated by the velocity of the leading end of the shock, which is dictated by the velocity of the end of the shocking jet.\n",
    "\n",
    "$$ \\dot{L} = \\sqrt{\\frac{16 k_b}{3 m_p}T}$$\n",
    "\n",
    "where $m_p$ is the mass of the proton. \n",
    "For a strong shock in a mono-atomic gas, the expansion velocity is set by the temperature of the shocked gas. If the shock is radiative the initial post-shock temperature can be higher than that of the thermalized, bremsstrahlung-emitting gas. A stringent constraint comes from X-ray observations and the upper limit to the gas temperature was set at T ~ 10 $^6$ K in G05. During estimation of the ISM density, we considered temperatures all the way up to T ~ 10 $^8$ K because of the fact that the emission is assumed to be bremsstrahlung. "
   ]
  },
  {
   "cell_type": "code",
   "execution_count": 42,
   "id": "f29452dd",
   "metadata": {},
   "outputs": [],
   "source": [
    "T_axis = np.linspace(T_overlap[0],T_overlap[-1], n_iter, endpoint=True)\n",
    "#T_axis_log = np.logspace(4,8,num=n_iter,base=10,endpoint=True)\n",
    "#T_axis_new_log = np.logspace(5,7,num=n_iter,base=10,endpoint=True)\n",
    "v_range = ( (16*T_axis*kb)/(3*mh) )**(1/2)/1e5\n",
    "v_range_cm = ( (16*T_axis*kb)/(3*mh) )**(1/2)"
   ]
  },
  {
   "cell_type": "code",
   "execution_count": 43,
   "id": "6e699af8",
   "metadata": {},
   "outputs": [
    {
     "name": "stdout",
     "output_type": "stream",
     "text": [
      "Velocity range 193.73908118777933 808.4986181354388\n"
     ]
    },
    {
     "data": {
      "image/png": "[encoded data removed]",
      "text/plain": [
       "<Figure size 432x288 with 1 Axes>"
      ]
     },
     "metadata": {
      "needs_background": "light"
     },
     "output_type": "display_data"
    }
   ],
   "source": [
    "#To plot the variation of ne with T_axis and adding the 25th and 95th percentiles as ne ranges\n",
    "fig = plt.figure()\n",
    "ax = fig.add_subplot(111)\n",
    "ax.yaxis.set_ticks_position('both')\n",
    "ax.xaxis.set_ticks_position('both')\n",
    "ax.get_yaxis().set_tick_params(direction='in', which='both')\n",
    "ax.get_xaxis().set_tick_params(direction='in', which='both')\n",
    "ax.set_xscale('log')\n",
    "ax.set_yscale('log')\n",
    "ax.set_xlabel(r'Temperature [K]', fontsize=12)\n",
    "ax.set_ylabel(r'Velocity [km s$^{-1}$]', fontsize=12)\n",
    "plt.tight_layout()\n",
    "plt.scatter(T_axis,v_range,s=10,color='purple',alpha=0.1)\n",
    "print('Velocity range',v_range[0],v_range[n_iter-1])"
   ]
  },
  {
   "cell_type": "markdown",
   "id": "9ef83a43",
   "metadata": {},
   "source": [
    "## Jet age measurement:"
   ]
  },
  {
   "cell_type": "markdown",
   "id": "f87b3082",
   "metadata": {},
   "source": [
    "$$ t = \\frac{3 L_j}{5 \\dot{L_j}} $$\n",
    "\n",
    "where $L_j$ is the seperation between the leading edge of the bowshock and the target and $\\dot{L_j}$ is the velocity of the bow shock estimated from the temperature of the ISM. Since the angular seperation between the leading edge of the bow shock and Cyg X-1 is the same in both the L and S-band, we use only one estimate to derive the jet age, and more appropriately S-band due to the higher resolution measurement. "
   ]
  },
  {
   "cell_type": "code",
   "execution_count": 44,
   "id": "58c3e4de",
   "metadata": {},
   "outputs": [],
   "source": [
    "def age(disamin,d,incl,v):\n",
    "    disasec = disamin*60 #lobe target seperation in arcsec (projected)\n",
    "    dispc = disasec*d*1e3*4.8*1e-6  #lobe target separation in pc (projected)\n",
    "    discmP = dispc*pc #lobe target sepeartion in cm (projected)\n",
    "    discm = discmP/math.sin(incl*math.pi/180) #lobe target de-projected seperation to account for the inclination angle\n",
    "    t = 3/5*(discm/v) #time in seconds\n",
    "    t_age_Myr = t/(365.*24.*60*60)/1.0E+6 #age of shock in Myr\n",
    "    return t_age_Myr\n",
    "    "
   ]
  },
  {
   "cell_type": "code",
   "execution_count": 45,
   "id": "770577bb",
   "metadata": {
    "scrolled": true
   },
   "outputs": [
    {
     "name": "stderr",
     "output_type": "stream",
     "text": [
      "[Parallel(n_jobs=16)]: Using backend LokyBackend with 16 concurrent workers.\n",
      "[Parallel(n_jobs=16)]: Done  40 tasks      | elapsed:    6.0s\n",
      "[Parallel(n_jobs=16)]: Done 409 tasks      | elapsed:    6.2s\n",
      "[Parallel(n_jobs=16)]: Done 10000 out of 10000 | elapsed:    7.3s finished\n"
     ]
    }
   ],
   "source": [
    "# Generating distribution arrays for measurements\n",
    "len_min = np.random.normal(disamin_S,disamin_err_S, n_iter) #distance between bowshock and target in arcmin\n",
    "i_angle = np.random.normal(incl,incl_err,n_iter)  #inclination angle\n",
    "#Obtaining distribution of age for different input parameters\n",
    "t_age = Parallel(n_jobs=n_cores,verbose=5)(delayed(age)(len_min[i],dist[i],i_angle[i],v_range_cm[i]) for i in range(n_iter))"
   ]
  },
  {
   "cell_type": "code",
   "execution_count": 46,
   "id": "a8c81d51",
   "metadata": {},
   "outputs": [
    {
     "name": "stdout",
     "output_type": "stream",
     "text": [
      "0.014390902497025189 0.011961009772505863 0.019417152300375627\n"
     ]
    },
    {
     "data": {
      "image/png": "[encoded data removed]",
      "text/plain": [
       "<Figure size 432x288 with 1 Axes>"
      ]
     },
     "metadata": {
      "needs_background": "light"
     },
     "output_type": "display_data"
    }
   ],
   "source": [
    "median = np.percentile(t_age,50)\n",
    "low_lim = np.percentile(t_age,25)\n",
    "high_lim = np.percentile(t_age,75)\n",
    "print(median,low_lim,high_lim)\n",
    "histplot = plt.hist(t_age,bins=70,color='orange',edgecolor='w',density=True,alpha=0.7)\n",
    "plt.vlines([low_lim,high_lim],0,max(histplot[0])*1.1,linestyles=':',colors='midnightblue')\n",
    "plt.vlines(median,0,max(histplot[0])*1.1,linestyles=':',colors='midnightblue')\n",
    "plt.ylim(0,max(histplot[0])*1.1)\n",
    "plt.ylabel('Probability density', fontsize=12)\n",
    "plt.xlabel('Age [Myr]', fontsize=12)\n",
    "#plt.xlim(0,0.2)\n",
    "#plt.title(str(name))\n",
    "plt.minorticks_on()\n",
    "plt.tick_params(axis='both', which='major', labelsize=12)\n",
    "plt.tick_params(axis='both', which='major', length=9)\n",
    "plt.tick_params(axis='both', which='minor', length=4.5)\n",
    "plt.tick_params(axis='both', which='both',direction='in',right=True,top=True)\n",
    "plt.show()"
   ]
  },
  {
   "cell_type": "markdown",
   "id": "609cc49a",
   "metadata": {},
   "source": [
    "The evolution of the large-scale structure created by the jet (lobe and bow shock), is self-similar once the jet extends beyond its characteristic length scale, given by (KA97):\n",
    "$$ L_0 = (\\frac{\\rho_0^2 Q_0}{\\dot{M}_0^3})^{-1/4} = [\\frac{Q_0^2}{\\rho_0^2 c^6(\\gamma_j -1)}]^{1/4}$$\n",
    "\n",
    "where $\\dot{M_0}$ is the mass transport rate of the jet, and $\\gamma_j$ is the Lorentz factor of the jet material.\n",
    "\n",
    "\n",
    "gamma is assumed as1.1, which maximizes L$_{0}$\n",
    "\n",
    "It is clear that the modelling can be applied, given the characteristic length is smaller than the scale of the jet length.\n"
   ]
  },
  {
   "cell_type": "code",
   "execution_count": null,
   "id": "9e0066e8",
   "metadata": {},
   "outputs": [
    {
     "name": "stdout",
     "output_type": "stream",
     "text": [
      "Characteristic jet length scale [pc] (L0) =  7.842e-05\n"
     ]
    },
    {
     "ename": "NameError",
     "evalue": "name 'discm' is not defined",
     "output_type": "error",
     "traceback": [
      "\u001b[0;31m---------------------------------------------------------------------------\u001b[0m",
      "\u001b[0;31mNameError\u001b[0m                                 Traceback (most recent call last)",
      "\u001b[0;32m<ipython-input-47-71cbcaf8c1ed>\u001b[0m in \u001b[0;36m<module>\u001b[0;34m\u001b[0m\n\u001b[1;32m      5\u001b[0m \u001b[0mL0\u001b[0m \u001b[0;34m=\u001b[0m \u001b[0;34m(\u001b[0m \u001b[0;34m(\u001b[0m\u001b[0mQ0\u001b[0m\u001b[0;34m**\u001b[0m\u001b[0;36m2\u001b[0m\u001b[0;34m)\u001b[0m \u001b[0;34m/\u001b[0m \u001b[0;34m(\u001b[0m\u001b[0mrho0\u001b[0m\u001b[0;34m**\u001b[0m\u001b[0;36m2\u001b[0m\u001b[0;34m*\u001b[0m\u001b[0mc\u001b[0m\u001b[0;34m**\u001b[0m\u001b[0;36m6\u001b[0m\u001b[0;34m*\u001b[0m\u001b[0;34m(\u001b[0m\u001b[0mgammaj\u001b[0m\u001b[0;34m-\u001b[0m\u001b[0;36m1\u001b[0m\u001b[0;34m)\u001b[0m\u001b[0;34m)\u001b[0m \u001b[0;34m)\u001b[0m\u001b[0;34m**\u001b[0m\u001b[0;34m(\u001b[0m\u001b[0;36m1\u001b[0m\u001b[0;34m/\u001b[0m\u001b[0;36m4\u001b[0m\u001b[0;34m)\u001b[0m\u001b[0;34m\u001b[0m\u001b[0;34m\u001b[0m\u001b[0m\n\u001b[1;32m      6\u001b[0m \u001b[0mprint\u001b[0m\u001b[0;34m(\u001b[0m\u001b[0;34m'Characteristic jet length scale [pc] (L0) = '\u001b[0m\u001b[0;34m,\u001b[0m \u001b[0;34m'{:.3e}'\u001b[0m\u001b[0;34m.\u001b[0m\u001b[0mformat\u001b[0m\u001b[0;34m(\u001b[0m\u001b[0mL0\u001b[0m\u001b[0;34m/\u001b[0m\u001b[0mpc\u001b[0m\u001b[0;34m)\u001b[0m\u001b[0;34m)\u001b[0m\u001b[0;34m\u001b[0m\u001b[0;34m\u001b[0m\u001b[0m\n\u001b[0;32m----> 7\u001b[0;31m \u001b[0mprint\u001b[0m\u001b[0;34m(\u001b[0m\u001b[0;34m'Jet length [pc] (Lj) = '\u001b[0m\u001b[0;34m,\u001b[0m \u001b[0;34m'{:.3e}'\u001b[0m\u001b[0;34m.\u001b[0m\u001b[0mformat\u001b[0m\u001b[0;34m(\u001b[0m\u001b[0mdiscm\u001b[0m\u001b[0;34m/\u001b[0m\u001b[0mpc\u001b[0m\u001b[0;34m)\u001b[0m\u001b[0;34m)\u001b[0m\u001b[0;34m\u001b[0m\u001b[0;34m\u001b[0m\u001b[0m\n\u001b[0m",
      "\u001b[0;31mNameError\u001b[0m: name 'discm' is not defined"
     ]
    }
   ],
   "source": [
    "# Calculation of L0\n",
    "rho0 = 2.0e-23 #density in g/cm3\n",
    "gammaj = 1.1\n",
    "Q0 = 1.0E+37\n",
    "L0 = ( (Q0**2) / (rho0**2*c**6*(gammaj-1)) )**(1/4)\n",
    "print('Characteristic jet length scale [pc] (L0) = ', '{:.3e}'.format(L0/pc))\n",
    "print('Jet length [pc] (Lj) = ', '{:.3e}'.format(discmP_L/pc))\n"
   ]
  },
  {
   "cell_type": "markdown",
   "id": "aef86f91",
   "metadata": {},
   "source": [
    "Assuming that the jet direction remains constant over time,  and that the jet is colliding with a medium of density $\\rho_0$, the power Q$_{jet}$ being transported by the jets averaged over its lifetime, **solely dependent on the properties of the ISM** at the interaction site. Combining the equations for $L_j$ and $\\dot{L_j}$ we obtain: \n",
    "\n",
    "\n",
    "$$ Q_{jet} = (\\frac{5}{3})^3~\\frac{\\rho_0}{C1^5}L_j^2 ~\\dot{L_j}^3$$\n",
    "\n",
    "Things to note here are the differences with the literature. For eg. the C1 constant here has been used as an assumed value of 1 in Gallo et al. 2005 and as 1.5 in Kaiser et al. 2004. The constant C1 depends on the jet opening angle, and a value of 1 implies a jet opening angle of 90deg (unrealistic). The better option would have been measured values of the opening angle but that has not been conclusively done so far. So, we will instead calculate C1 for a range of opening angles (0-30 degree) and use that as a input for the calculation.\n",
    "\n",
    "The pressure inside the lobe is given by: \n",
    "\n",
    "$$ p = 0.0675 \\frac{C_1^{10/3}}{R^2}(\\frac{\\rho_0 Q_0^2}{L_j^4})^{1/3}$$\n"
   ]
  },
  {
   "cell_type": "code",
   "execution_count": 48,
   "id": "7cfe3e48",
   "metadata": {},
   "outputs": [],
   "source": [
    "def power(theta,nee,disamin,vcm):\n",
    "    theta_rad = theta*math.pi/180           # Jet opening angle, in radiants\n",
    "    C2 = (((Gammac-1)*(Gammaj-1))/(4*Gammac) + 1 )**(Gammac/(Gammac-1)) * ((Gammaj+1)/(Gammaj-1))\n",
    "    Rax = math.sqrt((1/4*(C2/theta_rad**2))) # axial ratio of the jet-blown cavity                         \n",
    "    C3 = math.pi/(4*Rax**2)\n",
    "    C1 = ((C2)/(C3*theta_rad**2)*((Gammax+1)*(Gammac-1)*(5-beta)**3)/(18*(9*(Gammac + (Gammac -1)*(C2/(4*theta_rad**2))) - 4 - beta)) )**(1/(5-beta))\n",
    "    #nt=ne/x #where x is the ionisation fraction and is 1, use ne and nt interchangeably in the next equation\n",
    "    rho = nee*1.370*mh;                    # Density of the gas down-stream of the shock, in cm-3 (calculated above with the calorimetry method above)\n",
    "    rho0 = rho/4;                         # Density of the gas, up-stream of the shock, in cm-3\n",
    "    disasec = disamin*60 #lobe target seperation in arcsec (projected)\n",
    "    dispc = disasec*d*1e3*4.8*1e-6  #lobe target separation in pc (projected)\n",
    "    discmP = dispc*pc #lobe target sepeartion in cm (projected)\n",
    "    discm = discmP/math.sin(incl*math.pi/180) #lobe target de-projected seperation to account for the inclination angle\n",
    "    Pjet = (5/3)**3 * rho0/(C1**5)*discm**2*vcm**3   \n",
    "    return Pjet"
   ]
  },
  {
   "cell_type": "code",
   "execution_count": 49,
   "id": "cec6841e",
   "metadata": {},
   "outputs": [],
   "source": [
    "def press(theta,d,nee,disamin,vcm):\n",
    "    beta = 0\n",
    "                                           # Theta is the jet opening angle in degrees\n",
    "                                           # d is the distance in kpc\n",
    "                                           # nee is the number of electrons\n",
    "                                           # disamin lobe target seperation in arcsec (projected)\n",
    "                                           # vcm velocity\n",
    "    theta_rad = theta*np.pi/180            # Jet opening angle, in radiants\n",
    "    Con2 = (((Gammac-1)*(Gammaj-1))/(4*Gammac) + 1 )**(Gammac/(Gammac-1)) * ((Gammaj+1)/(Gammaj-1))\n",
    "    Rax = np.sqrt((1/4*(Con2/theta_rad**2))) # axial ratio of the jet-blown cavity                         \n",
    "    Con3 = np.pi/(4*Rax**2)\n",
    "    Con1 = ((Con2)/(Con3*theta_rad**2)*((Gammax+1)*(Gammac-1)*(5-beta)**3)/(18*(9*(Gammac + (Gammac -1)*(Con2/(4*theta_rad**2))) - 4 - beta)) )**(1/(5-beta))\n",
    "    #nt=ne/x #where x is the ionisation fraction and is 1, use ne and nt interchangeably in the next equation  \n",
    "    rho = nee*1.370*mh;                    # Density of the gas down-stream of the shock, in cm-3 (calculated above with the calorimetry method above)\n",
    "    rho0 = rho/4;                          # Density of the gas, up-stream of the shock, in cm-3\n",
    "    disasec = disamin*60                   # lobe target seperation in arcsec (projected)\n",
    "    dispc = disasec*d*1e3*4.8*1e-6         # lobe target separation in pc (projected)\n",
    "    discmP = dispc*pc                      # lobe target sepeartion in cm (projected)\n",
    "    discm = discmP/np.sin(incl*np.pi/180)  # lobe target de-projected seperation to account for the inclination angle\n",
    "    Pjet = (5/3)**3 * rho0/(Con1**5)*(discm**2)*vcm**3   # Upper limit to time averaged jet power \n",
    "    pminjet = 0.0675*(Con1**(10/3)/Rax**2)*(rho0*Pjet**2/(discm**4))**(1/3)\n",
    "    return pminjet\n"
   ]
  },
  {
   "cell_type": "code",
   "execution_count": 50,
   "id": "67ded5a4",
   "metadata": {},
   "outputs": [
    {
     "name": "stderr",
     "output_type": "stream",
     "text": [
      "[Parallel(n_jobs=16)]: Using backend LokyBackend with 16 concurrent workers.\n",
      "[Parallel(n_jobs=16)]: Done 144 tasks      | elapsed:    0.1s\n",
      "[Parallel(n_jobs=16)]: Done 10000 out of 10000 | elapsed:    0.7s finished\n"
     ]
    }
   ],
   "source": [
    "# Generating distribution arrays for measurements\n",
    "#open_angle = np.random.uniform(0,30, n_iter) #opening angle\n",
    "open_angle = np.logspace(np.log10(0.3),np.log10(2),num=n_iter,base=10,endpoint=True)\n",
    "ne_constrained = np.random.uniform(ne_overlap_min.min(),ne_overlap_max.max(),n_iter) #from the constraints using Halpha and radio fluxes\n",
    "#Obtaining distribution of power for different input parameters\n",
    "power_j = Parallel(n_jobs=n_cores,verbose=5)(delayed(power)(open_angle[i],ne_constrained[i],len_min[i],v_range_cm[i]) for i in range(n_iter))"
   ]
  },
  {
   "cell_type": "code",
   "execution_count": 51,
   "id": "44805939",
   "metadata": {},
   "outputs": [
    {
     "name": "stdout",
     "output_type": "stream",
     "text": [
      "8.201698061031619e+35 1.2834784624428929e+35 3.7230357873979685e+36\n"
     ]
    },
    {
     "data": {
      "image/png": "[encoded data removed]",
      "text/plain": [
       "<Figure size 432x288 with 1 Axes>"
      ]
     },
     "metadata": {
      "needs_background": "light"
     },
     "output_type": "display_data"
    }
   ],
   "source": [
    "median = np.percentile(power_j,50)\n",
    "low_lim = np.percentile(power_j,25)\n",
    "high_lim = np.percentile(power_j,75)\n",
    "print(median,low_lim,high_lim)\n",
    "histplot = plt.hist(power_j,color='orange',bins=100,edgecolor='w',density=True,alpha=0.7)\n",
    "#plt.vlines([low_lim,high_lim],0,max(histplot[0])*1.1,linestyles=':',colors='midnightblue')\n",
    "#plt.vlines(median,0,max(histplot[0])*1.1,linestyles=':',colors='midnightblue')\n",
    "#plt.ylim(0,max(histplot[0])*1.1)\n",
    "plt.ylabel('Probability density', fontsize=12)\n",
    "plt.xlabel('Power', fontsize=12)\n",
    "#plt.xlim(0,1e39)\n",
    "#plt.title(str(name))\n",
    "plt.minorticks_on()\n",
    "plt.tick_params(axis='both', which='major', labelsize=12)\n",
    "plt.tick_params(axis='both', which='major', length=9)\n",
    "plt.tick_params(axis='both', which='minor', length=4.5)\n",
    "plt.tick_params(axis='both', which='both',direction='in',right=True,top=True)\n",
    "plt.show()"
   ]
  },
  {
   "cell_type": "code",
   "execution_count": 42,
   "id": "4dce6db8",
   "metadata": {},
   "outputs": [
    {
     "data": {
      "text/plain": [
       "<matplotlib.collections.PathCollection at 0x7fbf09c3dd30>"
      ]
     },
     "execution_count": 42,
     "metadata": {},
     "output_type": "execute_result"
    },
    {
     "data": {
      "image/png": "[encoded data removed]",
      "text/plain": [
       "<Figure size 432x288 with 1 Axes>"
      ]
     },
     "metadata": {
      "needs_background": "light"
     },
     "output_type": "display_data"
    }
   ],
   "source": [
    "#To plot the variation of power with opening_angle\n",
    "fig = plt.figure()\n",
    "ax = fig.add_subplot(111)\n",
    "ax.yaxis.set_ticks_position('both')\n",
    "ax.xaxis.set_ticks_position('both')\n",
    "ax.get_yaxis().set_tick_params(direction='in', which='both')\n",
    "ax.get_xaxis().set_tick_params(direction='in', which='both')\n",
    "ax.set_xscale('log')\n",
    "ax.set_yscale('log')\n",
    "#ax.set_xlabel(r'Temperature [K]', fontsize=10)\n",
    "#ax.set_ylabel(r'$n_e(T)$ using Halpha maps [cm$^{-3}$]', fontsize=10)\n",
    "plt.tight_layout()\n",
    "#plt.hlines([16,61],1e4,1e8,linestyles=':',colors='black')\n",
    "plt.scatter(open_angle,power_j,s=2,color='hotpink',alpha=0.1)"
   ]
  },
  {
   "cell_type": "code",
   "execution_count": 52,
   "id": "4f48cdcc",
   "metadata": {},
   "outputs": [
    {
     "name": "stderr",
     "output_type": "stream",
     "text": [
      "[Parallel(n_jobs=16)]: Using backend LokyBackend with 16 concurrent workers.\n",
      "[Parallel(n_jobs=16)]: Done 176 tasks      | elapsed:    0.2s\n",
      "[Parallel(n_jobs=16)]: Done 10000 out of 10000 | elapsed:    0.9s finished\n"
     ]
    }
   ],
   "source": [
    "#calculating pressure inside bowshock\n",
    "pressure_j = Parallel(n_jobs=n_cores,verbose=5)(delayed(press)(open_angle[i],dist[i],ne_constrained[i],len_min[i],v_range_cm[i]) for i in range(n_iter))"
   ]
  },
  {
   "cell_type": "code",
   "execution_count": 53,
   "id": "65c63434",
   "metadata": {},
   "outputs": [
    {
     "name": "stdout",
     "output_type": "stream",
     "text": [
      "3.000987577165479e-12 6.325534298132714e-13 1.1348757852676542e-11\n"
     ]
    },
    {
     "data": {
      "image/png": "[encoded data removed]",
      "text/plain": [
       "<Figure size 432x288 with 1 Axes>"
      ]
     },
     "metadata": {
      "needs_background": "light"
     },
     "output_type": "display_data"
    }
   ],
   "source": [
    "median = np.percentile(pressure_j, 50)\n",
    "low_lim = np.percentile(pressure_j, 25)\n",
    "high_lim = np.percentile(pressure_j, 75)\n",
    "print(median, low_lim, high_lim)\n",
    "histplot = plt.hist(pressure_j, color='orange', bins=100, edgecolor='w', density=True, alpha=0.7)\n",
    "#plt.vlines([low_lim,high_lim],0,max(histplot[0])*1.1,linestyles=':',colors='midnightblue')\n",
    "#plt.vlines(median,0,max(histplot[0])*1.1,linestyles=':',colors='midnightblue')\n",
    "#plt.ylim(0,max(histplot[0])*1.1)\n",
    "plt.ylabel('Probability density', fontsize=12)\n",
    "plt.xlabel('Pressure', fontsize=12)\n",
    "#plt.xlim(0,1e39)\n",
    "#plt.title(str(name))\n",
    "plt.minorticks_on()\n",
    "plt.tick_params(axis='both', which='major', labelsize=12)\n",
    "plt.tick_params(axis='both', which='major', length=9)\n",
    "plt.tick_params(axis='both', which='minor', length=4.5)\n",
    "plt.tick_params(axis='both', which='both', direction='in', right=True, top=True)\n",
    "plt.show()"
   ]
  },
  {
   "cell_type": "code",
   "execution_count": null,
   "id": "5de640bd",
   "metadata": {},
   "outputs": [],
   "source": [
    "open_a = np.random.uniform(1,20, n_iter) #opening angle\n",
    "g_c = np.random.uniform(4/3,5/3, n_iter) #opening angle\n",
    "g_j = np.random.uniform(4/3,5/3, n_iter) #opening angle"
   ]
  },
  {
   "cell_type": "markdown",
   "id": "d162da4d",
   "metadata": {},
   "source": [
    "### Variation of C constants with opening angle"
   ]
  },
  {
   "cell_type": "code",
   "execution_count": null,
   "id": "b5bdab18",
   "metadata": {},
   "outputs": [],
   "source": [
    "def C_cons(g_c,g_j,g_x,ope):\n",
    "    theta_ra = ope*math.pi/180           # Jet opening angle, in radiants\n",
    "    C2_0 = (((g_c-1)*(g_j-1))/(4*g_c) + 1 )**(g_c/(g_c-1)) * ((g_j+1)/(g_j-1))\n",
    "    Rax_0 = math.sqrt((1/4*(C2/theta_ra**2))) # axial ratio of the jet-blown cavity                         \n",
    "    C3_0 = math.pi/(4*Rax_0**2)\n",
    "    C1_0 = ((C2_0)/(C3_0*theta_ra**2)*((g_x+1)*(g_c-1)*(5-beta)**3)/(18*(9*(g_c + (g_c -1)*(C2/(4*theta_ra**2))) - 4 - beta)) )**(1/(5-beta))\n",
    "    return C1_0"
   ]
  },
  {
   "cell_type": "code",
   "execution_count": null,
   "id": "f1940a97",
   "metadata": {},
   "outputs": [],
   "source": [
    "ce_1 = Parallel(n_jobs=n_cores,verbose=5)(delayed(C_cons)(g_c[i],g_j[i],(5.0/3),open_a[i]) for i in range(n_iter))\n"
   ]
  },
  {
   "cell_type": "code",
   "execution_count": null,
   "id": "966719eb",
   "metadata": {},
   "outputs": [],
   "source": [
    "median = np.percentile(ce_1,50)\n",
    "low_lim = np.percentile(ce_1,5)\n",
    "high_lim = np.percentile(ce_1,95)\n",
    "print(median,low_lim,high_lim)\n",
    "histplot = plt.hist(ce_1,bins=70,color='orange',edgecolor='w',density=True,alpha=0.7)\n",
    "plt.vlines([low_lim,high_lim],0,max(histplot[0])*1.1,linestyles=':',colors='midnightblue')\n",
    "plt.vlines(median,0,max(histplot[0])*1.1,linestyles=':',colors='midnightblue')\n",
    "plt.ylim(0,max(histplot[0])*1.1)\n",
    "plt.ylabel('Probability density', fontsize=12)\n",
    "plt.xlabel('C1 constant', fontsize=12)\n",
    "#plt.xlim(0,400)\n",
    "plt.title('Varying all three')\n",
    "plt.minorticks_on()\n",
    "plt.tick_params(axis='both', which='major', labelsize=12)\n",
    "plt.tick_params(axis='both', which='major', length=9)\n",
    "plt.tick_params(axis='both', which='minor', length=4.5)\n",
    "plt.tick_params(axis='both', which='both',direction='in',right=True,top=True)\n",
    "plt.show()"
   ]
  },
  {
   "cell_type": "code",
   "execution_count": null,
   "id": "af30129e",
   "metadata": {},
   "outputs": [],
   "source": [
    "ce_1 = Parallel(n_jobs=n_cores,verbose=5)(delayed(C_cons)(g_c[i],(5.0/3),(5.0/3),open_a[i]) for i in range(n_iter))\n",
    "median = np.percentile(ce_1,50)\n",
    "low_lim = np.percentile(ce_1,5)\n",
    "high_lim = np.percentile(ce_1,95)\n",
    "print(median,low_lim,high_lim)\n",
    "histplot = plt.hist(ce_1,bins=70,color='orange',edgecolor='w',density=True,alpha=0.7)\n",
    "plt.vlines([low_lim,high_lim],0,max(histplot[0])*1.1,linestyles=':',colors='midnightblue')\n",
    "plt.vlines(median,0,max(histplot[0])*1.1,linestyles=':',colors='midnightblue')\n",
    "plt.ylim(0,max(histplot[0])*1.1)\n",
    "plt.ylabel('Probability density', fontsize=12)\n",
    "plt.xlabel('C1 constant', fontsize=12)\n",
    "#plt.xlim(0,400)\n",
    "plt.title('Without varying g_j')\n",
    "plt.minorticks_on()\n",
    "plt.tick_params(axis='both', which='major', labelsize=12)\n",
    "plt.tick_params(axis='both', which='major', length=9)\n",
    "plt.tick_params(axis='both', which='minor', length=4.5)\n",
    "plt.tick_params(axis='both', which='both',direction='in',right=True,top=True)\n",
    "plt.show()"
   ]
  },
  {
   "cell_type": "code",
   "execution_count": null,
   "id": "9e91704d",
   "metadata": {},
   "outputs": [],
   "source": [
    "ce_1 = Parallel(n_jobs=n_cores,verbose=5)(delayed(C_cons)((5.0/3),g_j[i],(5.0/3),open_a[i]) for i in range(n_iter))\n",
    "median = np.percentile(ce_1,50)\n",
    "low_lim = np.percentile(ce_1,5)\n",
    "high_lim = np.percentile(ce_1,95)\n",
    "print(median,low_lim,high_lim)\n",
    "histplot = plt.hist(ce_1,bins=70,color='orange',edgecolor='w',density=True,alpha=0.7)\n",
    "plt.vlines([low_lim,high_lim],0,max(histplot[0])*1.1,linestyles=':',colors='midnightblue')\n",
    "plt.vlines(median,0,max(histplot[0])*1.1,linestyles=':',colors='midnightblue')\n",
    "plt.ylim(0,max(histplot[0])*1.1)\n",
    "plt.ylabel('Probability density', fontsize=12)\n",
    "plt.xlabel('C1 constant', fontsize=12)\n",
    "#plt.xlim(0,400)\n",
    "plt.title('Without varying g_c')\n",
    "plt.minorticks_on()\n",
    "plt.tick_params(axis='both', which='major', labelsize=12)\n",
    "plt.tick_params(axis='both', which='major', length=9)\n",
    "plt.tick_params(axis='both', which='minor', length=4.5)\n",
    "plt.tick_params(axis='both', which='both',direction='in',right=True,top=True)\n",
    "plt.show()"
   ]
  },
  {
   "cell_type": "code",
   "execution_count": 61,
   "id": "55d7b4d3",
   "metadata": {},
   "outputs": [
    {
     "name": "stdout",
     "output_type": "stream",
     "text": [
      "Cylinder Integrated Luminosity [erg/s] (Lcy) = 3.097e+26\n",
      ">> Cylinder magnetic field density [G] (Bmin) =  1.310e-06\n",
      ">> Cylinder pressure [erg/cm3] (pmincyl) ~ 5.364e-14\n"
     ]
    }
   ],
   "source": [
    "# This is adapted from the ThunderBook \"Equipartition analysis\" (https://github.com/robfender/ThunderBooks)\n",
    "#For L-band luminosity\n",
    "D = d\n",
    "k = 0.01          \n",
    "nu1 = 0.855e9\n",
    "nu2 = 1.7e9\n",
    "p=2.8 #assuming spectral index of -0.9\n",
    "alpha=(1.0-p)/2.0\n",
    "eta = 1\n",
    "f = 1\n",
    "\n",
    "# Pseudoconstant\n",
    "c1=6.27e18\n",
    "c2=2.37e-3\n",
    "# speed of light \n",
    "c=3.0e10\n",
    "# relativistic sound speed of c/sqrt[3]\n",
    "cs=c/(3.0**0.5)\n",
    "\n",
    "ctildetop=(nu1**((2.0-p)/2.0))-(nu2**((2.0-p)/2.0))\n",
    "ctildebottom=(nu1**((3.0-p)/2.0))-(nu2**((3.0-p)/2.0))\n",
    "ctilde=((p-3.0)/(p-2.0))*(ctildetop/ctildebottom)\n",
    "c12=(c2**-1.0)*(c1**0.5)*ctilde\n",
    "\n",
    "def LumTot(snu2,D,nu1,nu2,alpha): \n",
    "# here s is the flux density at the upper frequency nu2\n",
    "    L2 = 4 * np.pi * ((D * 3.1e21)**2.0) * (snu2 * 1e-26) * (nu2**(-alpha)) * ((nu2**(1+alpha))-(nu1**(1+alpha))) / (1+alpha)\n",
    "    #print (('Calculated total radiative luminosity'),('L ='),('%.2e' % L2),(' erg / sec '))\n",
    "    return L2\n",
    "\n",
    "L = LumTot(F_total_L,d,nu1,nu2,alpha)    #  Note that this is the INTEGRATED luminosity, not the monochromatic one\n",
    "Bmin = (6*np.pi*(eta/f)*c12*Lcy/proj_vol_cm_L)**(2/7)  # Equipartition magnetic field, Gauss\n",
    "\n",
    "# Total pressure in this feature for minimum energy conditions\n",
    "\n",
    "pmin = 7/9*Bmin**(2)/(8*np.pi)*(k+1)       # Equipartition pressure, erg/cm3\n",
    "\n",
    "\n",
    "print('Integrated Luminosity [erg/s] (L) =','{:.3e}'.format(L))\n",
    "print('Magnetic field density [G] (Bmin) = ','{:.3e}'.format(Bmin))\n",
    "print('Pressure [erg/cm3] (pmin) ~','{:.3e}'.format(pmin))\n"
   ]
  },
  {
   "cell_type": "code",
   "execution_count": 63,
   "id": "4c52cfa7",
   "metadata": {},
   "outputs": [
    {
     "name": "stdout",
     "output_type": "stream",
     "text": [
      "Cylinder Integrated Luminosity [erg/s] (Lcy) = 3.471e+26\n",
      ">> Cylinder magnetic field density [G] (Bmin) =  8.024e-07\n",
      ">> Cylinder pressure [erg/cm3] (pmincyl) ~ 2.012e-14\n"
     ]
    }
   ],
   "source": [
    "#For S-band luminosity\n",
    "D = d\n",
    "k = 0.01          \n",
    "nu1 = 2.182e9\n",
    "nu2 = 3.048e9\n",
    "p=2.8\n",
    "alpha=(1.0-p)/2.0\n",
    "eta = 1\n",
    "f = 1\n",
    "\n",
    "# Pseudoconstant\n",
    "c1=6.27e18\n",
    "c2=2.37e-3\n",
    "# speed of light \n",
    "c=3.0e10\n",
    "# relativistic sound speed of c/sqrt[3]\n",
    "cs=c/(3.0**0.5)\n",
    "\n",
    "ctildetop=(nu1**((2.0-p)/2.0))-(nu2**((2.0-p)/2.0))\n",
    "ctildebottom=(nu1**((3.0-p)/2.0))-(nu2**((3.0-p)/2.0))\n",
    "ctilde=((p-3.0)/(p-2.0))*(ctildetop/ctildebottom)\n",
    "c12=(c2**-1.0)*(c1**0.5)*ctilde\n",
    "\n",
    "def LumTot(snu2,D,nu1,nu2,alpha): \n",
    "# here s is the flux density at the upper frequency nu2\n",
    "    L2 = 4 * np.pi * ((D * 3.1e21)**2.0) * (snu2 * 1e-26) * (nu2**(-alpha)) * ((nu2**(1+alpha))-(nu1**(1+alpha))) / (1+alpha)\n",
    "    #print (('Calculated total radiative luminosity'),('L ='),('%.2e' % L2),(' erg / sec '))\n",
    "    return L2\n",
    "\n",
    "L = LumTot(F_total_S,d,nu1,nu2,alpha)    #  Note that this is the INTEGRATED luminosity, not the monochromatic one\n",
    "Bmin = (6*np.pi*(eta/f)*c12*Lcy/proj_vol_cm_L)**(2/7)  # Equipartition magnetic field, Gauss\n",
    "\n",
    "# Total pressure in this feature for minimum energy conditions\n",
    "\n",
    "pmin = 7/9*Bmin**(2)/(8*np.pi)*(k+1)       # Equipartition pressure, erg/cm3\n",
    "\n",
    "\n",
    "print('Integrated Luminosity [erg/s] (L) =','{:.3e}'.format(L))\n",
    "print('>> Magnetic field density [G] (Bmin) = ','{:.3e}'.format(Bmin))\n",
    "print('>> Pressure [erg/cm3] ~','{:.3e}'.format(pmin))\n"
   ]
  }
 ],
 "metadata": {
  "kernelspec": {
   "display_name": "Python 3",
   "language": "python",
   "name": "python3"
  },
  "language_info": {
   "codemirror_mode": {
    "name": "ipython",
    "version": 3
   },
   "file_extension": ".py",
   "mimetype": "text/x-python",
   "name": "python",
   "nbconvert_exporter": "python",
   "pygments_lexer": "ipython3",
   "version": "3.6.13"
  }
 },
 "nbformat": 4,
 "nbformat_minor": 5
}
